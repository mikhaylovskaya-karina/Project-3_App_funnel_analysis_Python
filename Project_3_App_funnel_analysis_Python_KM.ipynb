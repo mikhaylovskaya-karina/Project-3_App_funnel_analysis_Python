{
 "cells": [
  {
   "attachments": {},
   "cell_type": "markdown",
   "metadata": {
    "id": "RbqrgW7FeEvE"
   },
   "source": [
    "# Project-3: Анализ воронки продаж пользователям в мобильном приложении"
   ]
  },
  {
   "cell_type": "markdown",
   "metadata": {},
   "source": [
    "Мобильное приложение - игра Quiz Freeze. Это сборник вопросов в различных форматах и темах, на которые игрокам нужно давать ответы. Игра одиночная, то есть каждый игрок отвечает на вопросы самостоятельно.\n",
    "Некоторое время назад игру основательно переделали, но хороший и качественный анализ изменений, к сожалению, до сих пор не провели.\n",
    "\n",
    "Необходимо провести анализ поведения пользователей, чтобы понять как пользователи взаимодействуют с приложение."
   ]
  },
  {
   "cell_type": "markdown",
   "metadata": {
    "id": "nuRXj4EKeEvI"
   },
   "source": [
    "## Цель: Исследовать поведение пользователей в обновленном приложении Quiz Freeze"
   ]
  },
  {
   "cell_type": "markdown",
   "metadata": {
    "id": "CRFeQIWAeEvJ"
   },
   "source": [
    "Гипотеза 1: Должна быть разница в поведении групп, которые проходят и не проходят обучение. Так ли это? Влияет ли обучение на скорость прохождения других этапов игры?\n",
    "\n",
    "Гипотеза 2: Повторное прохождение обучения положительно влияет на оплату, так ли это?\n",
    "\n",
    "Гипотеза 3: Если пользователь сначала выбирает сложность обучения, будет ли он потом проходить обучение?"
   ]
  },
  {
   "cell_type": "markdown",
   "metadata": {
    "id": "FrJ4zOZMeEvJ"
   },
   "source": [
    "Задачи:\n",
    "1. Определить, насколько обучение сокращает время прохождения этапов игры.\n",
    "2. Доказать, что успешное обучение само по себе влияет на оплату и не имеет значения то, каким этапом оно шло.\n",
    "3. Определить, насколько прозрачен процесс взаимодействия с игрой."
   ]
  },
  {
   "cell_type": "code",
   "execution_count": 1,
   "metadata": {
    "id": "gKQgJP2CeEvK"
   },
   "outputs": [],
   "source": [
    "# загружаем необходимые библиотеки\n",
    "import pandas as pd\n",
    "\n",
    "import matplotlib.pyplot as plt\n",
    "%matplotlib inline\n",
    "\n",
    "import plotly\n",
    "import plotly.express as px\n",
    "from plotly import graph_objects as go"
   ]
  },
  {
   "cell_type": "code",
   "execution_count": 2,
   "metadata": {
    "colab": {
     "base_uri": "https://localhost:8080/",
     "height": 108,
     "resources": {
      "http://localhost:8080/nbextensions/google.colab/files.js": {
       "data": "Ly8gQ29weXJpZ2h0IDIwMTcgR29vZ2xlIExMQwovLwovLyBMaWNlbnNlZCB1bmRlciB0aGUgQXBhY2hlIExpY2Vuc2UsIFZlcnNpb24gMi4wICh0aGUgIkxpY2Vuc2UiKTsKLy8geW91IG1heSBub3QgdXNlIHRoaXMgZmlsZSBleGNlcHQgaW4gY29tcGxpYW5jZSB3aXRoIHRoZSBMaWNlbnNlLgovLyBZb3UgbWF5IG9idGFpbiBhIGNvcHkgb2YgdGhlIExpY2Vuc2UgYXQKLy8KLy8gICAgICBodHRwOi8vd3d3LmFwYWNoZS5vcmcvbGljZW5zZXMvTElDRU5TRS0yLjAKLy8KLy8gVW5sZXNzIHJlcXVpcmVkIGJ5IGFwcGxpY2FibGUgbGF3IG9yIGFncmVlZCB0byBpbiB3cml0aW5nLCBzb2Z0d2FyZQovLyBkaXN0cmlidXRlZCB1bmRlciB0aGUgTGljZW5zZSBpcyBkaXN0cmlidXRlZCBvbiBhbiAiQVMgSVMiIEJBU0lTLAovLyBXSVRIT1VUIFdBUlJBTlRJRVMgT1IgQ09ORElUSU9OUyBPRiBBTlkgS0lORCwgZWl0aGVyIGV4cHJlc3Mgb3IgaW1wbGllZC4KLy8gU2VlIHRoZSBMaWNlbnNlIGZvciB0aGUgc3BlY2lmaWMgbGFuZ3VhZ2UgZ292ZXJuaW5nIHBlcm1pc3Npb25zIGFuZAovLyBsaW1pdGF0aW9ucyB1bmRlciB0aGUgTGljZW5zZS4KCi8qKgogKiBAZmlsZW92ZXJ2aWV3IEhlbHBlcnMgZm9yIGdvb2dsZS5jb2xhYiBQeXRob24gbW9kdWxlLgogKi8KKGZ1bmN0aW9uKHNjb3BlKSB7CmZ1bmN0aW9uIHNwYW4odGV4dCwgc3R5bGVBdHRyaWJ1dGVzID0ge30pIHsKICBjb25zdCBlbGVtZW50ID0gZG9jdW1lbnQuY3JlYXRlRWxlbWVudCgnc3BhbicpOwogIGVsZW1lbnQudGV4dENvbnRlbnQgPSB0ZXh0OwogIGZvciAoY29uc3Qga2V5IG9mIE9iamVjdC5rZXlzKHN0eWxlQXR0cmlidXRlcykpIHsKICAgIGVsZW1lbnQuc3R5bGVba2V5XSA9IHN0eWxlQXR0cmlidXRlc1trZXldOwogIH0KICByZXR1cm4gZWxlbWVudDsKfQoKLy8gTWF4IG51bWJlciBvZiBieXRlcyB3aGljaCB3aWxsIGJlIHVwbG9hZGVkIGF0IGEgdGltZS4KY29uc3QgTUFYX1BBWUxPQURfU0laRSA9IDEwMCAqIDEwMjQ7CgpmdW5jdGlvbiBfdXBsb2FkRmlsZXMoaW5wdXRJZCwgb3V0cHV0SWQpIHsKICBjb25zdCBzdGVwcyA9IHVwbG9hZEZpbGVzU3RlcChpbnB1dElkLCBvdXRwdXRJZCk7CiAgY29uc3Qgb3V0cHV0RWxlbWVudCA9IGRvY3VtZW50LmdldEVsZW1lbnRCeUlkKG91dHB1dElkKTsKICAvLyBDYWNoZSBzdGVwcyBvbiB0aGUgb3V0cHV0RWxlbWVudCB0byBtYWtlIGl0IGF2YWlsYWJsZSBmb3IgdGhlIG5leHQgY2FsbAogIC8vIHRvIHVwbG9hZEZpbGVzQ29udGludWUgZnJvbSBQeXRob24uCiAgb3V0cHV0RWxlbWVudC5zdGVwcyA9IHN0ZXBzOwoKICByZXR1cm4gX3VwbG9hZEZpbGVzQ29udGludWUob3V0cHV0SWQpOwp9CgovLyBUaGlzIGlzIHJvdWdobHkgYW4gYXN5bmMgZ2VuZXJhdG9yIChub3Qgc3VwcG9ydGVkIGluIHRoZSBicm93c2VyIHlldCksCi8vIHdoZXJlIHRoZXJlIGFyZSBtdWx0aXBsZSBhc3luY2hyb25vdXMgc3RlcHMgYW5kIHRoZSBQeXRob24gc2lkZSBpcyBnb2luZwovLyB0byBwb2xsIGZvciBjb21wbGV0aW9uIG9mIGVhY2ggc3RlcC4KLy8gVGhpcyB1c2VzIGEgUHJvbWlzZSB0byBibG9jayB0aGUgcHl0aG9uIHNpZGUgb24gY29tcGxldGlvbiBvZiBlYWNoIHN0ZXAsCi8vIHRoZW4gcGFzc2VzIHRoZSByZXN1bHQgb2YgdGhlIHByZXZpb3VzIHN0ZXAgYXMgdGhlIGlucHV0IHRvIHRoZSBuZXh0IHN0ZXAuCmZ1bmN0aW9uIF91cGxvYWRGaWxlc0NvbnRpbnVlKG91dHB1dElkKSB7CiAgY29uc3Qgb3V0cHV0RWxlbWVudCA9IGRvY3VtZW50LmdldEVsZW1lbnRCeUlkKG91dHB1dElkKTsKICBjb25zdCBzdGVwcyA9IG91dHB1dEVsZW1lbnQuc3RlcHM7CgogIGNvbnN0IG5leHQgPSBzdGVwcy5uZXh0KG91dHB1dEVsZW1lbnQubGFzdFByb21pc2VWYWx1ZSk7CiAgcmV0dXJuIFByb21pc2UucmVzb2x2ZShuZXh0LnZhbHVlLnByb21pc2UpLnRoZW4oKHZhbHVlKSA9PiB7CiAgICAvLyBDYWNoZSB0aGUgbGFzdCBwcm9taXNlIHZhbHVlIHRvIG1ha2UgaXQgYXZhaWxhYmxlIHRvIHRoZSBuZXh0CiAgICAvLyBzdGVwIG9mIHRoZSBnZW5lcmF0b3IuCiAgICBvdXRwdXRFbGVtZW50Lmxhc3RQcm9taXNlVmFsdWUgPSB2YWx1ZTsKICAgIHJldHVybiBuZXh0LnZhbHVlLnJlc3BvbnNlOwogIH0pOwp9CgovKioKICogR2VuZXJhdG9yIGZ1bmN0aW9uIHdoaWNoIGlzIGNhbGxlZCBiZXR3ZWVuIGVhY2ggYXN5bmMgc3RlcCBvZiB0aGUgdXBsb2FkCiAqIHByb2Nlc3MuCiAqIEBwYXJhbSB7c3RyaW5nfSBpbnB1dElkIEVsZW1lbnQgSUQgb2YgdGhlIGlucHV0IGZpbGUgcGlja2VyIGVsZW1lbnQuCiAqIEBwYXJhbSB7c3RyaW5nfSBvdXRwdXRJZCBFbGVtZW50IElEIG9mIHRoZSBvdXRwdXQgZGlzcGxheS4KICogQHJldHVybiB7IUl0ZXJhYmxlPCFPYmplY3Q+fSBJdGVyYWJsZSBvZiBuZXh0IHN0ZXBzLgogKi8KZnVuY3Rpb24qIHVwbG9hZEZpbGVzU3RlcChpbnB1dElkLCBvdXRwdXRJZCkgewogIGNvbnN0IGlucHV0RWxlbWVudCA9IGRvY3VtZW50LmdldEVsZW1lbnRCeUlkKGlucHV0SWQpOwogIGlucHV0RWxlbWVudC5kaXNhYmxlZCA9IGZhbHNlOwoKICBjb25zdCBvdXRwdXRFbGVtZW50ID0gZG9jdW1lbnQuZ2V0RWxlbWVudEJ5SWQob3V0cHV0SWQpOwogIG91dHB1dEVsZW1lbnQuaW5uZXJIVE1MID0gJyc7CgogIGNvbnN0IHBpY2tlZFByb21pc2UgPSBuZXcgUHJvbWlzZSgocmVzb2x2ZSkgPT4gewogICAgaW5wdXRFbGVtZW50LmFkZEV2ZW50TGlzdGVuZXIoJ2NoYW5nZScsIChlKSA9PiB7CiAgICAgIHJlc29sdmUoZS50YXJnZXQuZmlsZXMpOwogICAgfSk7CiAgfSk7CgogIGNvbnN0IGNhbmNlbCA9IGRvY3VtZW50LmNyZWF0ZUVsZW1lbnQoJ2J1dHRvbicpOwogIGlucHV0RWxlbWVudC5wYXJlbnRFbGVtZW50LmFwcGVuZENoaWxkKGNhbmNlbCk7CiAgY2FuY2VsLnRleHRDb250ZW50ID0gJ0NhbmNlbCB1cGxvYWQnOwogIGNvbnN0IGNhbmNlbFByb21pc2UgPSBuZXcgUHJvbWlzZSgocmVzb2x2ZSkgPT4gewogICAgY2FuY2VsLm9uY2xpY2sgPSAoKSA9PiB7CiAgICAgIHJlc29sdmUobnVsbCk7CiAgICB9OwogIH0pOwoKICAvLyBXYWl0IGZvciB0aGUgdXNlciB0byBwaWNrIHRoZSBmaWxlcy4KICBjb25zdCBmaWxlcyA9IHlpZWxkIHsKICAgIHByb21pc2U6IFByb21pc2UucmFjZShbcGlja2VkUHJvbWlzZSwgY2FuY2VsUHJvbWlzZV0pLAogICAgcmVzcG9uc2U6IHsKICAgICAgYWN0aW9uOiAnc3RhcnRpbmcnLAogICAgfQogIH07CgogIGNhbmNlbC5yZW1vdmUoKTsKCiAgLy8gRGlzYWJsZSB0aGUgaW5wdXQgZWxlbWVudCBzaW5jZSBmdXJ0aGVyIHBpY2tzIGFyZSBub3QgYWxsb3dlZC4KICBpbnB1dEVsZW1lbnQuZGlzYWJsZWQgPSB0cnVlOwoKICBpZiAoIWZpbGVzKSB7CiAgICByZXR1cm4gewogICAgICByZXNwb25zZTogewogICAgICAgIGFjdGlvbjogJ2NvbXBsZXRlJywKICAgICAgfQogICAgfTsKICB9CgogIGZvciAoY29uc3QgZmlsZSBvZiBmaWxlcykgewogICAgY29uc3QgbGkgPSBkb2N1bWVudC5jcmVhdGVFbGVtZW50KCdsaScpOwogICAgbGkuYXBwZW5kKHNwYW4oZmlsZS5uYW1lLCB7Zm9udFdlaWdodDogJ2JvbGQnfSkpOwogICAgbGkuYXBwZW5kKHNwYW4oCiAgICAgICAgYCgke2ZpbGUudHlwZSB8fCAnbi9hJ30pIC0gJHtmaWxlLnNpemV9IGJ5dGVzLCBgICsKICAgICAgICBgbGFzdCBtb2RpZmllZDogJHsKICAgICAgICAgICAgZmlsZS5sYXN0TW9kaWZpZWREYXRlID8gZmlsZS5sYXN0TW9kaWZpZWREYXRlLnRvTG9jYWxlRGF0ZVN0cmluZygpIDoKICAgICAgICAgICAgICAgICAgICAgICAgICAgICAgICAgICAgJ24vYSd9IC0gYCkpOwogICAgY29uc3QgcGVyY2VudCA9IHNwYW4oJzAlIGRvbmUnKTsKICAgIGxpLmFwcGVuZENoaWxkKHBlcmNlbnQpOwoKICAgIG91dHB1dEVsZW1lbnQuYXBwZW5kQ2hpbGQobGkpOwoKICAgIGNvbnN0IGZpbGVEYXRhUHJvbWlzZSA9IG5ldyBQcm9taXNlKChyZXNvbHZlKSA9PiB7CiAgICAgIGNvbnN0IHJlYWRlciA9IG5ldyBGaWxlUmVhZGVyKCk7CiAgICAgIHJlYWRlci5vbmxvYWQgPSAoZSkgPT4gewogICAgICAgIHJlc29sdmUoZS50YXJnZXQucmVzdWx0KTsKICAgICAgfTsKICAgICAgcmVhZGVyLnJlYWRBc0FycmF5QnVmZmVyKGZpbGUpOwogICAgfSk7CiAgICAvLyBXYWl0IGZvciB0aGUgZGF0YSB0byBiZSByZWFkeS4KICAgIGxldCBmaWxlRGF0YSA9IHlpZWxkIHsKICAgICAgcHJvbWlzZTogZmlsZURhdGFQcm9taXNlLAogICAgICByZXNwb25zZTogewogICAgICAgIGFjdGlvbjogJ2NvbnRpbnVlJywKICAgICAgfQogICAgfTsKCiAgICAvLyBVc2UgYSBjaHVua2VkIHNlbmRpbmcgdG8gYXZvaWQgbWVzc2FnZSBzaXplIGxpbWl0cy4gU2VlIGIvNjIxMTU2NjAuCiAgICBsZXQgcG9zaXRpb24gPSAwOwogICAgZG8gewogICAgICBjb25zdCBsZW5ndGggPSBNYXRoLm1pbihmaWxlRGF0YS5ieXRlTGVuZ3RoIC0gcG9zaXRpb24sIE1BWF9QQVlMT0FEX1NJWkUpOwogICAgICBjb25zdCBjaHVuayA9IG5ldyBVaW50OEFycmF5KGZpbGVEYXRhLCBwb3NpdGlvbiwgbGVuZ3RoKTsKICAgICAgcG9zaXRpb24gKz0gbGVuZ3RoOwoKICAgICAgY29uc3QgYmFzZTY0ID0gYnRvYShTdHJpbmcuZnJvbUNoYXJDb2RlLmFwcGx5KG51bGwsIGNodW5rKSk7CiAgICAgIHlpZWxkIHsKICAgICAgICByZXNwb25zZTogewogICAgICAgICAgYWN0aW9uOiAnYXBwZW5kJywKICAgICAgICAgIGZpbGU6IGZpbGUubmFtZSwKICAgICAgICAgIGRhdGE6IGJhc2U2NCwKICAgICAgICB9LAogICAgICB9OwoKICAgICAgbGV0IHBlcmNlbnREb25lID0gZmlsZURhdGEuYnl0ZUxlbmd0aCA9PT0gMCA/CiAgICAgICAgICAxMDAgOgogICAgICAgICAgTWF0aC5yb3VuZCgocG9zaXRpb24gLyBmaWxlRGF0YS5ieXRlTGVuZ3RoKSAqIDEwMCk7CiAgICAgIHBlcmNlbnQudGV4dENvbnRlbnQgPSBgJHtwZXJjZW50RG9uZX0lIGRvbmVgOwoKICAgIH0gd2hpbGUgKHBvc2l0aW9uIDwgZmlsZURhdGEuYnl0ZUxlbmd0aCk7CiAgfQoKICAvLyBBbGwgZG9uZS4KICB5aWVsZCB7CiAgICByZXNwb25zZTogewogICAgICBhY3Rpb246ICdjb21wbGV0ZScsCiAgICB9CiAgfTsKfQoKc2NvcGUuZ29vZ2xlID0gc2NvcGUuZ29vZ2xlIHx8IHt9OwpzY29wZS5nb29nbGUuY29sYWIgPSBzY29wZS5nb29nbGUuY29sYWIgfHwge307CnNjb3BlLmdvb2dsZS5jb2xhYi5fZmlsZXMgPSB7CiAgX3VwbG9hZEZpbGVzLAogIF91cGxvYWRGaWxlc0NvbnRpbnVlLAp9Owp9KShzZWxmKTsK",
       "headers": [
        [
         "content-type",
         "application/javascript"
        ]
       ],
       "ok": true,
       "status": 200,
       "status_text": ""
      }
     }
    },
    "id": "U4RuFA2EeSW4",
    "outputId": "64de0f9a-7845-406f-d673-0f49a9f5718c"
   },
   "outputs": [],
   "source": [
    "# from google.colab import files \n",
    "# uploaded = files.upload()"
   ]
  },
  {
   "cell_type": "code",
   "execution_count": 3,
   "metadata": {
    "id": "hhiDyavmeEvL"
   },
   "outputs": [],
   "source": [
    "# читаем данные\n",
    "events = pd.read_csv('7_4_Events.csv')\n",
    "purchases = pd.read_csv('purchase.csv')"
   ]
  },
  {
   "cell_type": "code",
   "execution_count": 4,
   "metadata": {
    "colab": {
     "base_uri": "https://localhost:8080/"
    },
    "id": "IcPtKxqjeEvM",
    "outputId": "5fe8e42e-4cb0-4348-df32-d38d511ce384"
   },
   "outputs": [],
   "source": [
    "# создаем условие для отбора пользователей,\n",
    "# зарегистрировавшихся в приложении в 2018 г.\n",
    "users_condition = ((events['start_time'] >= '2018-01-01') \n",
    "                   & (events['start_time'] < '2019-01-01') \n",
    "                   & (events['event_type'] == 'registration'))\n",
    "\n",
    "users_list = events[users_condition]['user_id'].to_list()\n",
    "events = events[\n",
    "    events['user_id'].isin(users_list)].copy()#применен метод copy для явного копирования и избежания предупреждений\n",
    "# преобразуем типы данных и создаем дополнительные признаки\n",
    "events['start_time'] = pd.to_datetime(events['start_time'])\n",
    "events['event_type'] = events['event_type'].astype('category')  \n",
    "events['selected_level'] = events['selected_level'].astype('category')\n",
    "events = events.rename(\n",
    "    columns={'id': 'event_id'}\n",
    ")\n",
    "\n",
    "purchases = purchases[purchases['user_id'].isin(users_list)].copy()#применен метод copy для явного копирования и избежания предупреждений\n",
    "purchases = purchases.rename(\n",
    "    columns={'event_datetime': 'start_time', 'id': 'event_id'}\n",
    ")\n",
    "purchases['start_time'] = pd.to_datetime(purchases['start_time'])\n",
    "purchases['event_type'] = 'purchase'\n",
    "purchases['event_type'] = purchases['event_type'].astype('category')"
   ]
  },
  {
   "cell_type": "code",
   "execution_count": 5,
   "metadata": {
    "colab": {
     "base_uri": "https://localhost:8080/"
    },
    "id": "9Lk6KzFkeEvM",
    "outputId": "f009f20d-139d-4096-bbdf-93f97f4cf1f3"
   },
   "outputs": [
    {
     "name": "stderr",
     "output_type": "stream",
     "text": [
      "c:\\Users\\karin\\AppData\\Local\\Programs\\Python\\Python39\\lib\\site-packages\\pandas\\core\\arrays\\categorical.py:2747: FutureWarning: The `inplace` parameter in pandas.Categorical.set_categories is deprecated and will be removed in a future version. Removing unused categories will always return a new Categorical object.\n",
      "  res = method(*args, **kwargs)\n"
     ]
    }
   ],
   "source": [
    "# создаем общий DataFrame\n",
    "df = pd.concat(\n",
    "    [events, purchases], \n",
    "    sort=False\n",
    ")\n",
    "df = df.reset_index(drop=True).sort_values('start_time')\n",
    "df['event_type'] = df['event_type'].astype('category')\n",
    "# закрепляем последовательность этапов приложения, \n",
    "# чтобы этапы корректно отображались в воронке\n",
    "df['event_type'].cat.set_categories(\n",
    "    ['registration', 'tutorial_start', 'tutorial_finish', \n",
    "    'level_choice', 'pack_choice', 'purchase'], inplace=True) "
   ]
  },
  {
   "cell_type": "code",
   "execution_count": 6,
   "metadata": {
    "colab": {
     "base_uri": "https://localhost:8080/"
    },
    "id": "lL7NeuDXeEvN",
    "outputId": "bc30fa26-a524-4004-9b3b-6c10d00eb25b"
   },
   "outputs": [
    {
     "name": "stdout",
     "output_type": "stream",
     "text": [
      "<class 'pandas.core.frame.DataFrame'>\n",
      "Int64Index: 68559 entries, 0 to 68558\n",
      "Data columns (total 7 columns):\n",
      " #   Column          Non-Null Count  Dtype         \n",
      "---  ------          --------------  -----         \n",
      " 0   event_id        68559 non-null  int64         \n",
      " 1   event_type      68559 non-null  category      \n",
      " 2   selected_level  8342 non-null   category      \n",
      " 3   start_time      68559 non-null  datetime64[ns]\n",
      " 4   tutorial_id     32954 non-null  float64       \n",
      " 5   user_id         68559 non-null  int64         \n",
      " 6   amount          1600 non-null   float64       \n",
      "dtypes: category(2), datetime64[ns](1), float64(2), int64(2)\n",
      "memory usage: 3.3 MB\n"
     ]
    }
   ],
   "source": [
    "# проверка\n",
    "df.info()"
   ]
  },
  {
   "cell_type": "markdown",
   "metadata": {
    "id": "nnuLoPNeeEvO"
   },
   "source": [
    "# Проверка Гипотезы 1"
   ]
  },
  {
   "cell_type": "markdown",
   "metadata": {
    "id": "KmMCUuJYeEvO"
   },
   "source": [
    "## 1.1 Для провнрки Гипотезы о том, что время прохожденя скорости этапов приложения может различаться у разных групп пользователей, выделим группы пользователей, которые окончили обучение, не начинали обучение, начинали обучение, но не закончили его."
   ]
  },
  {
   "cell_type": "code",
   "execution_count": 7,
   "metadata": {
    "colab": {
     "base_uri": "https://localhost:8080/"
    },
    "id": "JTWA98EmeEvO",
    "outputId": "29e3748c-a7db-4b74-cbb9-642d65fe4ce1"
   },
   "outputs": [
    {
     "name": "stdout",
     "output_type": "stream",
     "text": [
      "Общее количество пользователей: 19926\n",
      "\n",
      "Количество пользователей, окончивших этап обучения: 10250\n",
      "Процент пользователей, окончивших обучение, от общего числапользователей: 51.44%\n",
      "\n",
      "Количество пользователей, начинавших, но не окончивших этап обучения: 1608\n",
      "Процент пользователей, начинавших, но не окончивших обучение, от общего числа пользователей: 8.07%\n",
      "\n",
      "Количество пользователей, не начинавших этап обучения: 8068\n",
      "Процент пользователей, не начинавших обучение, от общего числа пользователей: 40.49%\n"
     ]
    }
   ],
   "source": [
    "# определяем общее количество пользователей\n",
    "all_users_cnt = df['user_id'].nunique()\n",
    "print('Общее количество пользователей:', all_users_cnt)\n",
    "print()\n",
    "# определяем количество пользователей, \n",
    "# которые завершили обучение\n",
    "condition_1 = df['event_type'] == 'tutorial_finish'\n",
    "tutorial_finished_users = df[condition_1]['user_id'].unique()\n",
    "print('Количество пользователей, окончивших этап \\\n",
    "обучения:', len(tutorial_finished_users)\n",
    ")\n",
    "print('Процент пользователей, окончивших обучение, от общего числа\\\n",
    "пользователей: {:.2%}'.format(\n",
    "    len(tutorial_finished_users)/all_users_cnt)\n",
    ")\n",
    "print()\n",
    "\n",
    "# определяем количество пользователей, \n",
    "# которые начинали обучение, но не завершили его\n",
    "condition_2 = ((df['event_type'] == 'tutorial_start') \n",
    "               & (~df['user_id'].isin(tutorial_finished_users)))\n",
    "tutorial_not_finished_users = df[condition_2]['user_id'].unique()\n",
    "print('Количество пользователей, начинавших, \\\n",
    "но не окончивших этап обучения:', len(tutorial_not_finished_users)\n",
    ")\n",
    "print('Процент пользователей, начинавших, но не окончивших \\\n",
    "обучение, от общего числа пользователей: {:.2%}'.format(\n",
    "    len(tutorial_not_finished_users)/all_users_cnt)\n",
    ")\n",
    "print()\n",
    "\n",
    "# определяем количество пользователей, которые не начинали обучение\n",
    "tutorial_start_users = df[\n",
    "    df['event_type'] == 'tutorial_start']['user_id'].unique()\n",
    "condition_3 = (~df['user_id'].isin(tutorial_start_users))\n",
    "tutorial_not_started_users = df[condition_3]['user_id'].unique()\n",
    "\n",
    "print('Количество пользователей, \\\n",
    "не начинавших этап обучения:', len(tutorial_not_started_users)\n",
    ")\n",
    "print('Процент пользователей, не начинавших обучение, от общего числа \\\n",
    "пользователей: {:.2%}'.format(\n",
    "    len(tutorial_not_started_users)/all_users_cnt)\n",
    ")"
   ]
  },
  {
   "cell_type": "code",
   "execution_count": 8,
   "metadata": {
    "colab": {
     "base_uri": "https://localhost:8080/"
    },
    "id": "aEbZxdJ3eEvP",
    "outputId": "1b142ee4-b4f7-40be-b86d-d77d774b244e"
   },
   "outputs": [
    {
     "name": "stdout",
     "output_type": "stream",
     "text": [
      "True\n"
     ]
    }
   ],
   "source": [
    "# проверяем соответствие количества пользователей по выделенным группам \n",
    "# общему числу пользователей\n",
    "print(all_users_cnt == len(tutorial_finished_users) \n",
    "      + len(tutorial_not_finished_users) \n",
    "      + len(tutorial_not_started_users))"
   ]
  },
  {
   "cell_type": "markdown",
   "metadata": {
    "id": "N0yiQ5nieEvP"
   },
   "source": [
    "Примерно 60% от общего числа пользователей начинают этап прохождения обучения. Более половины от всех пользователей заканчивают.\n",
    "Около 40% пользоваелей не приступают к обучению. "
   ]
  },
  {
   "cell_type": "code",
   "execution_count": 9,
   "metadata": {},
   "outputs": [],
   "source": [
    "# создаем функцию для определения принадлежности каждого \n",
    "# пользователя к группам по прохождению обучения\n",
    "def get_tutorial_status(user_id):\n",
    "    if user_id in tutorial_finished_users:\n",
    "        return 'tut_finished'\n",
    "    elif user_id in tutorial_not_finished_users:\n",
    "        return 'tut_not_finished'\n",
    "    elif user_id in tutorial_not_started_users:\n",
    "        return 'tut_not_started'\n",
    "\n",
    "\n",
    "df['tutorial_status'] = df['user_id'].apply(get_tutorial_status)"
   ]
  },
  {
   "cell_type": "code",
   "execution_count": 10,
   "metadata": {},
   "outputs": [
    {
     "data": {
      "text/html": [
       "<div>\n",
       "<style scoped>\n",
       "    .dataframe tbody tr th:only-of-type {\n",
       "        vertical-align: middle;\n",
       "    }\n",
       "\n",
       "    .dataframe tbody tr th {\n",
       "        vertical-align: top;\n",
       "    }\n",
       "\n",
       "    .dataframe thead th {\n",
       "        text-align: right;\n",
       "    }\n",
       "</style>\n",
       "<table border=\"1\" class=\"dataframe\">\n",
       "  <thead>\n",
       "    <tr style=\"text-align: right;\">\n",
       "      <th></th>\n",
       "      <th>event_type</th>\n",
       "      <th>tut_finished</th>\n",
       "      <th>tut_not_finished</th>\n",
       "      <th>tut_not_started</th>\n",
       "      <th>all_users</th>\n",
       "      <th>tut_finished_%</th>\n",
       "      <th>tut_not_finished_%</th>\n",
       "      <th>tut_not_started_%</th>\n",
       "    </tr>\n",
       "  </thead>\n",
       "  <tbody>\n",
       "    <tr>\n",
       "      <th>0</th>\n",
       "      <td>registration</td>\n",
       "      <td>10250</td>\n",
       "      <td>1608</td>\n",
       "      <td>8068</td>\n",
       "      <td>19926</td>\n",
       "      <td>0.51</td>\n",
       "      <td>0.08</td>\n",
       "      <td>0.40</td>\n",
       "    </tr>\n",
       "    <tr>\n",
       "      <th>1</th>\n",
       "      <td>tutorial_start</td>\n",
       "      <td>10250</td>\n",
       "      <td>1608</td>\n",
       "      <td>0</td>\n",
       "      <td>11858</td>\n",
       "      <td>0.86</td>\n",
       "      <td>0.14</td>\n",
       "      <td>0.00</td>\n",
       "    </tr>\n",
       "    <tr>\n",
       "      <th>2</th>\n",
       "      <td>tutorial_finish</td>\n",
       "      <td>10250</td>\n",
       "      <td>0</td>\n",
       "      <td>0</td>\n",
       "      <td>10250</td>\n",
       "      <td>1.00</td>\n",
       "      <td>0.00</td>\n",
       "      <td>0.00</td>\n",
       "    </tr>\n",
       "    <tr>\n",
       "      <th>3</th>\n",
       "      <td>level_choice</td>\n",
       "      <td>7501</td>\n",
       "      <td>743</td>\n",
       "      <td>98</td>\n",
       "      <td>8342</td>\n",
       "      <td>0.90</td>\n",
       "      <td>0.09</td>\n",
       "      <td>0.01</td>\n",
       "    </tr>\n",
       "    <tr>\n",
       "      <th>4</th>\n",
       "      <td>pack_choice</td>\n",
       "      <td>5176</td>\n",
       "      <td>487</td>\n",
       "      <td>74</td>\n",
       "      <td>5737</td>\n",
       "      <td>0.90</td>\n",
       "      <td>0.08</td>\n",
       "      <td>0.01</td>\n",
       "    </tr>\n",
       "    <tr>\n",
       "      <th>5</th>\n",
       "      <td>purchase</td>\n",
       "      <td>1447</td>\n",
       "      <td>131</td>\n",
       "      <td>22</td>\n",
       "      <td>1600</td>\n",
       "      <td>0.90</td>\n",
       "      <td>0.08</td>\n",
       "      <td>0.01</td>\n",
       "    </tr>\n",
       "  </tbody>\n",
       "</table>\n",
       "</div>"
      ],
      "text/plain": [
       "        event_type  tut_finished  tut_not_finished  tut_not_started  \\\n",
       "0     registration         10250              1608             8068   \n",
       "1   tutorial_start         10250              1608                0   \n",
       "2  tutorial_finish         10250                 0                0   \n",
       "3     level_choice          7501               743               98   \n",
       "4      pack_choice          5176               487               74   \n",
       "5         purchase          1447               131               22   \n",
       "\n",
       "   all_users  tut_finished_%  tut_not_finished_%  tut_not_started_%  \n",
       "0      19926            0.51                0.08               0.40  \n",
       "1      11858            0.86                0.14               0.00  \n",
       "2      10250            1.00                0.00               0.00  \n",
       "3       8342            0.90                0.09               0.01  \n",
       "4       5737            0.90                0.08               0.01  \n",
       "5       1600            0.90                0.08               0.01  "
      ]
     },
     "execution_count": 10,
     "metadata": {},
     "output_type": "execute_result"
    }
   ],
   "source": [
    "# создаем сводную таблицу со всеми этапами \n",
    "# приложения и пользователями поделенными по группам\n",
    "group_pivot = pd.pivot_table(\n",
    "    data=df,\n",
    "    values=['user_id'],\n",
    "    columns=['tutorial_status'],\n",
    "    index=['event_type'],\n",
    "    aggfunc='nunique'\n",
    ")\n",
    "group_pivot.columns = list(\n",
    "    map(lambda x: x[-1], group_pivot)\n",
    ")\n",
    "group_pivot = group_pivot.reset_index()\n",
    "# создаем дополнительные признаки, отображающие общее \n",
    "# количество пользователей и процентное соотношение от общего числа\n",
    "group_pivot['all_users'] = group_pivot['tut_finished'] + group_pivot['tut_not_started'] + group_pivot['tut_not_finished']\n",
    "\n",
    "group_pivot['tut_finished_%'] = round(\n",
    "    group_pivot['tut_finished'] / group_pivot['all_users'], 2\n",
    ")\n",
    "group_pivot['tut_not_finished_%'] = round(\n",
    "    group_pivot['tut_not_finished'] / group_pivot['all_users'], 2\n",
    ")\n",
    "group_pivot['tut_not_started_%'] = round(\n",
    "    group_pivot['tut_not_started'] / group_pivot['all_users'], 2\n",
    ")\n",
    "group_pivot"
   ]
  },
  {
   "cell_type": "code",
   "execution_count": 11,
   "metadata": {},
   "outputs": [
    {
     "data": {
      "application/vnd.plotly.v1+json": {
       "config": {
        "plotlyServerURL": "https://plot.ly"
       },
       "data": [
        {
         "name": "tutorial finished",
         "textinfo": "value+percent initial",
         "type": "funnel",
         "x": [
          10250,
          10250,
          10250,
          7501,
          5176,
          1447
         ],
         "y": [
          "registration",
          "tutorial_start",
          "tutorial_finish",
          "level_choice",
          "pack_choice",
          "purchase"
         ]
        },
        {
         "name": "tutorial not started",
         "orientation": "h",
         "textinfo": "value+percent initial",
         "textposition": "inside",
         "type": "funnel",
         "x": [
          8068,
          0,
          0,
          98,
          74,
          22
         ],
         "y": [
          "registration",
          "tutorial_start",
          "tutorial_finish",
          "level_choice",
          "pack_choice",
          "purchase"
         ]
        },
        {
         "name": "tutorial started not finished",
         "orientation": "h",
         "textinfo": "value+percent initial",
         "textposition": "outside",
         "type": "funnel",
         "x": [
          1608,
          1608,
          0,
          743,
          487,
          131
         ],
         "y": [
          "registration",
          "tutorial_start",
          "tutorial_finish",
          "level_choice",
          "pack_choice",
          "purchase"
         ]
        }
       ],
       "layout": {
        "template": {
         "data": {
          "bar": [
           {
            "error_x": {
             "color": "#2a3f5f"
            },
            "error_y": {
             "color": "#2a3f5f"
            },
            "marker": {
             "line": {
              "color": "#E5ECF6",
              "width": 0.5
             },
             "pattern": {
              "fillmode": "overlay",
              "size": 10,
              "solidity": 0.2
             }
            },
            "type": "bar"
           }
          ],
          "barpolar": [
           {
            "marker": {
             "line": {
              "color": "#E5ECF6",
              "width": 0.5
             },
             "pattern": {
              "fillmode": "overlay",
              "size": 10,
              "solidity": 0.2
             }
            },
            "type": "barpolar"
           }
          ],
          "carpet": [
           {
            "aaxis": {
             "endlinecolor": "#2a3f5f",
             "gridcolor": "white",
             "linecolor": "white",
             "minorgridcolor": "white",
             "startlinecolor": "#2a3f5f"
            },
            "baxis": {
             "endlinecolor": "#2a3f5f",
             "gridcolor": "white",
             "linecolor": "white",
             "minorgridcolor": "white",
             "startlinecolor": "#2a3f5f"
            },
            "type": "carpet"
           }
          ],
          "choropleth": [
           {
            "colorbar": {
             "outlinewidth": 0,
             "ticks": ""
            },
            "type": "choropleth"
           }
          ],
          "contour": [
           {
            "colorbar": {
             "outlinewidth": 0,
             "ticks": ""
            },
            "colorscale": [
             [
              0,
              "#0d0887"
             ],
             [
              0.1111111111111111,
              "#46039f"
             ],
             [
              0.2222222222222222,
              "#7201a8"
             ],
             [
              0.3333333333333333,
              "#9c179e"
             ],
             [
              0.4444444444444444,
              "#bd3786"
             ],
             [
              0.5555555555555556,
              "#d8576b"
             ],
             [
              0.6666666666666666,
              "#ed7953"
             ],
             [
              0.7777777777777778,
              "#fb9f3a"
             ],
             [
              0.8888888888888888,
              "#fdca26"
             ],
             [
              1,
              "#f0f921"
             ]
            ],
            "type": "contour"
           }
          ],
          "contourcarpet": [
           {
            "colorbar": {
             "outlinewidth": 0,
             "ticks": ""
            },
            "type": "contourcarpet"
           }
          ],
          "heatmap": [
           {
            "colorbar": {
             "outlinewidth": 0,
             "ticks": ""
            },
            "colorscale": [
             [
              0,
              "#0d0887"
             ],
             [
              0.1111111111111111,
              "#46039f"
             ],
             [
              0.2222222222222222,
              "#7201a8"
             ],
             [
              0.3333333333333333,
              "#9c179e"
             ],
             [
              0.4444444444444444,
              "#bd3786"
             ],
             [
              0.5555555555555556,
              "#d8576b"
             ],
             [
              0.6666666666666666,
              "#ed7953"
             ],
             [
              0.7777777777777778,
              "#fb9f3a"
             ],
             [
              0.8888888888888888,
              "#fdca26"
             ],
             [
              1,
              "#f0f921"
             ]
            ],
            "type": "heatmap"
           }
          ],
          "heatmapgl": [
           {
            "colorbar": {
             "outlinewidth": 0,
             "ticks": ""
            },
            "colorscale": [
             [
              0,
              "#0d0887"
             ],
             [
              0.1111111111111111,
              "#46039f"
             ],
             [
              0.2222222222222222,
              "#7201a8"
             ],
             [
              0.3333333333333333,
              "#9c179e"
             ],
             [
              0.4444444444444444,
              "#bd3786"
             ],
             [
              0.5555555555555556,
              "#d8576b"
             ],
             [
              0.6666666666666666,
              "#ed7953"
             ],
             [
              0.7777777777777778,
              "#fb9f3a"
             ],
             [
              0.8888888888888888,
              "#fdca26"
             ],
             [
              1,
              "#f0f921"
             ]
            ],
            "type": "heatmapgl"
           }
          ],
          "histogram": [
           {
            "marker": {
             "pattern": {
              "fillmode": "overlay",
              "size": 10,
              "solidity": 0.2
             }
            },
            "type": "histogram"
           }
          ],
          "histogram2d": [
           {
            "colorbar": {
             "outlinewidth": 0,
             "ticks": ""
            },
            "colorscale": [
             [
              0,
              "#0d0887"
             ],
             [
              0.1111111111111111,
              "#46039f"
             ],
             [
              0.2222222222222222,
              "#7201a8"
             ],
             [
              0.3333333333333333,
              "#9c179e"
             ],
             [
              0.4444444444444444,
              "#bd3786"
             ],
             [
              0.5555555555555556,
              "#d8576b"
             ],
             [
              0.6666666666666666,
              "#ed7953"
             ],
             [
              0.7777777777777778,
              "#fb9f3a"
             ],
             [
              0.8888888888888888,
              "#fdca26"
             ],
             [
              1,
              "#f0f921"
             ]
            ],
            "type": "histogram2d"
           }
          ],
          "histogram2dcontour": [
           {
            "colorbar": {
             "outlinewidth": 0,
             "ticks": ""
            },
            "colorscale": [
             [
              0,
              "#0d0887"
             ],
             [
              0.1111111111111111,
              "#46039f"
             ],
             [
              0.2222222222222222,
              "#7201a8"
             ],
             [
              0.3333333333333333,
              "#9c179e"
             ],
             [
              0.4444444444444444,
              "#bd3786"
             ],
             [
              0.5555555555555556,
              "#d8576b"
             ],
             [
              0.6666666666666666,
              "#ed7953"
             ],
             [
              0.7777777777777778,
              "#fb9f3a"
             ],
             [
              0.8888888888888888,
              "#fdca26"
             ],
             [
              1,
              "#f0f921"
             ]
            ],
            "type": "histogram2dcontour"
           }
          ],
          "mesh3d": [
           {
            "colorbar": {
             "outlinewidth": 0,
             "ticks": ""
            },
            "type": "mesh3d"
           }
          ],
          "parcoords": [
           {
            "line": {
             "colorbar": {
              "outlinewidth": 0,
              "ticks": ""
             }
            },
            "type": "parcoords"
           }
          ],
          "pie": [
           {
            "automargin": true,
            "type": "pie"
           }
          ],
          "scatter": [
           {
            "fillpattern": {
             "fillmode": "overlay",
             "size": 10,
             "solidity": 0.2
            },
            "type": "scatter"
           }
          ],
          "scatter3d": [
           {
            "line": {
             "colorbar": {
              "outlinewidth": 0,
              "ticks": ""
             }
            },
            "marker": {
             "colorbar": {
              "outlinewidth": 0,
              "ticks": ""
             }
            },
            "type": "scatter3d"
           }
          ],
          "scattercarpet": [
           {
            "marker": {
             "colorbar": {
              "outlinewidth": 0,
              "ticks": ""
             }
            },
            "type": "scattercarpet"
           }
          ],
          "scattergeo": [
           {
            "marker": {
             "colorbar": {
              "outlinewidth": 0,
              "ticks": ""
             }
            },
            "type": "scattergeo"
           }
          ],
          "scattergl": [
           {
            "marker": {
             "colorbar": {
              "outlinewidth": 0,
              "ticks": ""
             }
            },
            "type": "scattergl"
           }
          ],
          "scattermapbox": [
           {
            "marker": {
             "colorbar": {
              "outlinewidth": 0,
              "ticks": ""
             }
            },
            "type": "scattermapbox"
           }
          ],
          "scatterpolar": [
           {
            "marker": {
             "colorbar": {
              "outlinewidth": 0,
              "ticks": ""
             }
            },
            "type": "scatterpolar"
           }
          ],
          "scatterpolargl": [
           {
            "marker": {
             "colorbar": {
              "outlinewidth": 0,
              "ticks": ""
             }
            },
            "type": "scatterpolargl"
           }
          ],
          "scatterternary": [
           {
            "marker": {
             "colorbar": {
              "outlinewidth": 0,
              "ticks": ""
             }
            },
            "type": "scatterternary"
           }
          ],
          "surface": [
           {
            "colorbar": {
             "outlinewidth": 0,
             "ticks": ""
            },
            "colorscale": [
             [
              0,
              "#0d0887"
             ],
             [
              0.1111111111111111,
              "#46039f"
             ],
             [
              0.2222222222222222,
              "#7201a8"
             ],
             [
              0.3333333333333333,
              "#9c179e"
             ],
             [
              0.4444444444444444,
              "#bd3786"
             ],
             [
              0.5555555555555556,
              "#d8576b"
             ],
             [
              0.6666666666666666,
              "#ed7953"
             ],
             [
              0.7777777777777778,
              "#fb9f3a"
             ],
             [
              0.8888888888888888,
              "#fdca26"
             ],
             [
              1,
              "#f0f921"
             ]
            ],
            "type": "surface"
           }
          ],
          "table": [
           {
            "cells": {
             "fill": {
              "color": "#EBF0F8"
             },
             "line": {
              "color": "white"
             }
            },
            "header": {
             "fill": {
              "color": "#C8D4E3"
             },
             "line": {
              "color": "white"
             }
            },
            "type": "table"
           }
          ]
         },
         "layout": {
          "annotationdefaults": {
           "arrowcolor": "#2a3f5f",
           "arrowhead": 0,
           "arrowwidth": 1
          },
          "autotypenumbers": "strict",
          "coloraxis": {
           "colorbar": {
            "outlinewidth": 0,
            "ticks": ""
           }
          },
          "colorscale": {
           "diverging": [
            [
             0,
             "#8e0152"
            ],
            [
             0.1,
             "#c51b7d"
            ],
            [
             0.2,
             "#de77ae"
            ],
            [
             0.3,
             "#f1b6da"
            ],
            [
             0.4,
             "#fde0ef"
            ],
            [
             0.5,
             "#f7f7f7"
            ],
            [
             0.6,
             "#e6f5d0"
            ],
            [
             0.7,
             "#b8e186"
            ],
            [
             0.8,
             "#7fbc41"
            ],
            [
             0.9,
             "#4d9221"
            ],
            [
             1,
             "#276419"
            ]
           ],
           "sequential": [
            [
             0,
             "#0d0887"
            ],
            [
             0.1111111111111111,
             "#46039f"
            ],
            [
             0.2222222222222222,
             "#7201a8"
            ],
            [
             0.3333333333333333,
             "#9c179e"
            ],
            [
             0.4444444444444444,
             "#bd3786"
            ],
            [
             0.5555555555555556,
             "#d8576b"
            ],
            [
             0.6666666666666666,
             "#ed7953"
            ],
            [
             0.7777777777777778,
             "#fb9f3a"
            ],
            [
             0.8888888888888888,
             "#fdca26"
            ],
            [
             1,
             "#f0f921"
            ]
           ],
           "sequentialminus": [
            [
             0,
             "#0d0887"
            ],
            [
             0.1111111111111111,
             "#46039f"
            ],
            [
             0.2222222222222222,
             "#7201a8"
            ],
            [
             0.3333333333333333,
             "#9c179e"
            ],
            [
             0.4444444444444444,
             "#bd3786"
            ],
            [
             0.5555555555555556,
             "#d8576b"
            ],
            [
             0.6666666666666666,
             "#ed7953"
            ],
            [
             0.7777777777777778,
             "#fb9f3a"
            ],
            [
             0.8888888888888888,
             "#fdca26"
            ],
            [
             1,
             "#f0f921"
            ]
           ]
          },
          "colorway": [
           "#636efa",
           "#EF553B",
           "#00cc96",
           "#ab63fa",
           "#FFA15A",
           "#19d3f3",
           "#FF6692",
           "#B6E880",
           "#FF97FF",
           "#FECB52"
          ],
          "font": {
           "color": "#2a3f5f"
          },
          "geo": {
           "bgcolor": "white",
           "lakecolor": "white",
           "landcolor": "#E5ECF6",
           "showlakes": true,
           "showland": true,
           "subunitcolor": "white"
          },
          "hoverlabel": {
           "align": "left"
          },
          "hovermode": "closest",
          "mapbox": {
           "style": "light"
          },
          "paper_bgcolor": "white",
          "plot_bgcolor": "#E5ECF6",
          "polar": {
           "angularaxis": {
            "gridcolor": "white",
            "linecolor": "white",
            "ticks": ""
           },
           "bgcolor": "#E5ECF6",
           "radialaxis": {
            "gridcolor": "white",
            "linecolor": "white",
            "ticks": ""
           }
          },
          "scene": {
           "xaxis": {
            "backgroundcolor": "#E5ECF6",
            "gridcolor": "white",
            "gridwidth": 2,
            "linecolor": "white",
            "showbackground": true,
            "ticks": "",
            "zerolinecolor": "white"
           },
           "yaxis": {
            "backgroundcolor": "#E5ECF6",
            "gridcolor": "white",
            "gridwidth": 2,
            "linecolor": "white",
            "showbackground": true,
            "ticks": "",
            "zerolinecolor": "white"
           },
           "zaxis": {
            "backgroundcolor": "#E5ECF6",
            "gridcolor": "white",
            "gridwidth": 2,
            "linecolor": "white",
            "showbackground": true,
            "ticks": "",
            "zerolinecolor": "white"
           }
          },
          "shapedefaults": {
           "line": {
            "color": "#2a3f5f"
           }
          },
          "ternary": {
           "aaxis": {
            "gridcolor": "white",
            "linecolor": "white",
            "ticks": ""
           },
           "baxis": {
            "gridcolor": "white",
            "linecolor": "white",
            "ticks": ""
           },
           "bgcolor": "#E5ECF6",
           "caxis": {
            "gridcolor": "white",
            "linecolor": "white",
            "ticks": ""
           }
          },
          "title": {
           "x": 0.05
          },
          "xaxis": {
           "automargin": true,
           "gridcolor": "white",
           "linecolor": "white",
           "ticks": "",
           "title": {
            "standoff": 15
           },
           "zerolinecolor": "white",
           "zerolinewidth": 2
          },
          "yaxis": {
           "automargin": true,
           "gridcolor": "white",
           "linecolor": "white",
           "ticks": "",
           "title": {
            "standoff": 15
           },
           "zerolinecolor": "white",
           "zerolinewidth": 2
          }
         }
        },
        "title": {
         "text": "Воронка прохождения этапов пользователями по выделенным группам"
        }
       }
      }
     },
     "metadata": {},
     "output_type": "display_data"
    }
   ],
   "source": [
    "# импортирую необходимую библиотеку для создания воронки\n",
    "from plotly import graph_objects as go\n",
    "# создаем воронку пользователей, включающую группы пользователей\n",
    "fig = go.Figure()\n",
    "\n",
    "fig.add_trace(go.Funnel(\n",
    "    name = 'tutorial finished',\n",
    "    y = group_pivot['event_type'],\n",
    "    x = group_pivot['tut_finished'].values,\n",
    "    textinfo = 'value+percent initial'))\n",
    "\n",
    "fig.add_trace(go.Funnel(\n",
    "    name = 'tutorial not started',\n",
    "    orientation = 'h',\n",
    "    y = group_pivot['event_type'],\n",
    "    x = group_pivot['tut_not_started'].values,\n",
    "    textposition = 'inside',\n",
    "    textinfo = 'value+percent initial'))\n",
    "\n",
    "fig.add_trace(go.Funnel(\n",
    "    name = 'tutorial started not finished',\n",
    "    orientation = 'h',\n",
    "    y = group_pivot['event_type'],\n",
    "    x = group_pivot['tut_not_finished'].values,\n",
    "    textposition = 'outside',\n",
    "    textinfo = 'value+percent initial'))\n",
    "\n",
    "fig.update_layout(title_text='Воронка прохождения этапов пользователями по выделенным группам')\n",
    "fig.show()"
   ]
  },
  {
   "cell_type": "markdown",
   "metadata": {},
   "source": [
    "Больше половины пользователей прошли этап обучения и именно эти пользователи составляют большинство тех (~90%), кто проходит на следующие этапы приложения и доходят до этапа оплаты вопросов.\n",
    "\n",
    "Наименьшее число пользователей, совершивших покупку вопросов, относится к тем, кто не начинал обучение. Лишь 0,3% от числа этих пользователей доходят до этапа покупки вопросов.\n",
    "\n",
    "Таким образом, подтверждается прямая зависимость вероятности оплаты от прохождения обучения."
   ]
  },
  {
   "cell_type": "markdown",
   "metadata": {
    "id": "V0xLm-kieEvP"
   },
   "source": [
    "## 1.2 Проверяем как различается время прохождения этапов приложения Quiz Freez пользователями выделенных групп"
   ]
  },
  {
   "cell_type": "code",
   "execution_count": 12,
   "metadata": {
    "colab": {
     "base_uri": "https://localhost:8080/"
    },
    "id": "w1COHZzfeEvQ",
    "outputId": "5b6bcb04-d797-4120-e641-eee8f8b34a59"
   },
   "outputs": [
    {
     "name": "stdout",
     "output_type": "stream",
     "text": [
      "Этапы прохождения приложения Quiz Freeze: registration, tutorial_start, tutorial_finish, level_choice, pack_choice, purchase\n"
     ]
    }
   ],
   "source": [
    "# определяем этапы приложения\n",
    "evs = df['event_type'].unique().tolist()\n",
    "\n",
    "print(\"Этапы прохождения приложения \\\n",
    "Quiz Freeze:\", ', '.join(evs)\n",
    ")"
   ]
  },
  {
   "cell_type": "code",
   "execution_count": 13,
   "metadata": {
    "colab": {
     "base_uri": "https://localhost:8080/"
    },
    "id": "6fvmJZM2eEvQ",
    "outputId": "4ad9ddc9-21a7-4228-b501-6cf395bdee26"
   },
   "outputs": [
    {
     "name": "stdout",
     "output_type": "stream",
     "text": [
      "Изменение общего количества пользователей на разных этапах приложения Quiz Freeze:\n"
     ]
    },
    {
     "data": {
      "text/plain": [
       "event_type\n",
       "registration       19926\n",
       "tutorial_start     11858\n",
       "tutorial_finish    10250\n",
       "level_choice        8342\n",
       "pack_choice         5737\n",
       "purchase            1600\n",
       "Name: user_id, dtype: int64"
      ]
     },
     "execution_count": 13,
     "metadata": {},
     "output_type": "execute_result"
    }
   ],
   "source": [
    "# определяем воронку прохождения этапов всеми пользователями\n",
    "events_grouped = df.groupby(\n",
    "    ['event_type']\n",
    ")['user_id'].nunique()\n",
    "\n",
    "print('Изменение общего количества пользователей на \\\n",
    "разных этапах приложения Quiz Freeze:')\n",
    "events_grouped.sort_values(ascending=False)"
   ]
  },
  {
   "cell_type": "code",
   "execution_count": 14,
   "metadata": {
    "colab": {
     "base_uri": "https://localhost:8080/",
     "height": 206
    },
    "id": "TC3ZcUXpeEvQ",
    "outputId": "1d6ffcac-370c-4ef2-c44d-21f26a20ec13"
   },
   "outputs": [
    {
     "data": {
      "text/html": [
       "<div>\n",
       "<style scoped>\n",
       "    .dataframe tbody tr th:only-of-type {\n",
       "        vertical-align: middle;\n",
       "    }\n",
       "\n",
       "    .dataframe tbody tr th {\n",
       "        vertical-align: top;\n",
       "    }\n",
       "\n",
       "    .dataframe thead th {\n",
       "        text-align: right;\n",
       "    }\n",
       "</style>\n",
       "<table border=\"1\" class=\"dataframe\">\n",
       "  <thead>\n",
       "    <tr style=\"text-align: right;\">\n",
       "      <th></th>\n",
       "      <th>user_id</th>\n",
       "      <th>registration</th>\n",
       "      <th>tutorial_start</th>\n",
       "      <th>tutorial_finish</th>\n",
       "      <th>level_choice</th>\n",
       "      <th>pack_choice</th>\n",
       "      <th>purchase</th>\n",
       "      <th>tutorial_status</th>\n",
       "    </tr>\n",
       "  </thead>\n",
       "  <tbody>\n",
       "    <tr>\n",
       "      <th>0</th>\n",
       "      <td>27832</td>\n",
       "      <td>2018-01-01 03:48:40</td>\n",
       "      <td>NaT</td>\n",
       "      <td>NaT</td>\n",
       "      <td>NaT</td>\n",
       "      <td>NaT</td>\n",
       "      <td>NaT</td>\n",
       "      <td>tut_not_started</td>\n",
       "    </tr>\n",
       "    <tr>\n",
       "      <th>1</th>\n",
       "      <td>27833</td>\n",
       "      <td>2018-01-01 04:07:25</td>\n",
       "      <td>2018-01-01 17:47:40</td>\n",
       "      <td>2018-01-01 17:50:08</td>\n",
       "      <td>NaT</td>\n",
       "      <td>NaT</td>\n",
       "      <td>NaT</td>\n",
       "      <td>tut_finished</td>\n",
       "    </tr>\n",
       "    <tr>\n",
       "      <th>2</th>\n",
       "      <td>27834</td>\n",
       "      <td>2018-01-01 08:35:10</td>\n",
       "      <td>2018-01-01 19:46:11</td>\n",
       "      <td>2018-01-01 19:48:01</td>\n",
       "      <td>NaT</td>\n",
       "      <td>NaT</td>\n",
       "      <td>NaT</td>\n",
       "      <td>tut_finished</td>\n",
       "    </tr>\n",
       "    <tr>\n",
       "      <th>3</th>\n",
       "      <td>27835</td>\n",
       "      <td>2018-01-01 11:54:47</td>\n",
       "      <td>2018-01-01 15:00:51</td>\n",
       "      <td>2018-01-01 15:06:15</td>\n",
       "      <td>2018-01-01 20:37:22</td>\n",
       "      <td>2018-01-01 20:38:43</td>\n",
       "      <td>NaT</td>\n",
       "      <td>tut_finished</td>\n",
       "    </tr>\n",
       "    <tr>\n",
       "      <th>4</th>\n",
       "      <td>27836</td>\n",
       "      <td>2018-01-01 13:28:07</td>\n",
       "      <td>2018-01-01 14:54:40</td>\n",
       "      <td>2018-01-01 15:42:58</td>\n",
       "      <td>NaT</td>\n",
       "      <td>NaT</td>\n",
       "      <td>NaT</td>\n",
       "      <td>tut_finished</td>\n",
       "    </tr>\n",
       "  </tbody>\n",
       "</table>\n",
       "</div>"
      ],
      "text/plain": [
       "   user_id        registration      tutorial_start     tutorial_finish  \\\n",
       "0    27832 2018-01-01 03:48:40                 NaT                 NaT   \n",
       "1    27833 2018-01-01 04:07:25 2018-01-01 17:47:40 2018-01-01 17:50:08   \n",
       "2    27834 2018-01-01 08:35:10 2018-01-01 19:46:11 2018-01-01 19:48:01   \n",
       "3    27835 2018-01-01 11:54:47 2018-01-01 15:00:51 2018-01-01 15:06:15   \n",
       "4    27836 2018-01-01 13:28:07 2018-01-01 14:54:40 2018-01-01 15:42:58   \n",
       "\n",
       "         level_choice         pack_choice purchase  tutorial_status  \n",
       "0                 NaT                 NaT      NaT  tut_not_started  \n",
       "1                 NaT                 NaT      NaT     tut_finished  \n",
       "2                 NaT                 NaT      NaT     tut_finished  \n",
       "3 2018-01-01 20:37:22 2018-01-01 20:38:43      NaT     tut_finished  \n",
       "4                 NaT                 NaT      NaT     tut_finished  "
      ]
     },
     "execution_count": 14,
     "metadata": {},
     "output_type": "execute_result"
    }
   ],
   "source": [
    "# Создаем сводную таблицу со временем начала \n",
    "# прохождения пользователями этапов приложения\n",
    "time_pivot_table = df.pivot_table(\n",
    "    values=['start_time'],\n",
    "    index=['user_id'],\n",
    "    columns=['event_type'],\n",
    "    aggfunc='min'\n",
    ")\n",
    "time_pivot_table.columns = list(\n",
    "    map(lambda x: x[-1], time_pivot_table)\n",
    ")\n",
    "time_pivot_table = time_pivot_table.reset_index()\n",
    "time_pivot_table['tutorial_status'] = time_pivot_table['user_id'].apply(get_tutorial_status)\n",
    "time_pivot_table.head()"
   ]
  },
  {
   "cell_type": "code",
   "execution_count": 15,
   "metadata": {
    "id": "wY6_4rELeEvQ"
   },
   "outputs": [],
   "source": [
    "# создаем сводную таблицу с данными о пользователях, \n",
    "# окончивших обучение\n",
    "tfu_time_table = time_pivot_table[\n",
    "    time_pivot_table['tutorial_status'] == 'tut_finished'].copy() # копируем для издежания SettingWithCopyWarning\n",
    "\n",
    "# создаем признаки timedelta между этапами приложения\n",
    "tfu_time_table['reg_tut_start_timedelta'] = tfu_time_table['tutorial_start'] - tfu_time_table['registration']\n",
    "tfu_time_table['tut_start_tut_finish_timedelta'] = tfu_time_table['tutorial_finish'] - tfu_time_table['tutorial_start']\n",
    "tfu_time_table['tut_finish_level_choice_timedelta'] = tfu_time_table['level_choice'] - tfu_time_table['tutorial_finish']\n",
    "tfu_time_table['level_pack_choices_timedelta'] = tfu_time_table['pack_choice'] - tfu_time_table['level_choice']\n",
    "tfu_time_table['pack_choice_purchase_timedelta'] = tfu_time_table['purchase'] - tfu_time_table['pack_choice']\n",
    "tfu_time_table['reg_purchase_timedelta'] = tfu_time_table['purchase'] - tfu_time_table['registration']"
   ]
  },
  {
   "cell_type": "code",
   "execution_count": 16,
   "metadata": {
    "colab": {
     "base_uri": "https://localhost:8080/"
    },
    "id": "v31uIMY-eEvR",
    "outputId": "7eba4da5-625b-4a71-fbae-bbfe01b623aa"
   },
   "outputs": [
    {
     "name": "stdout",
     "output_type": "stream",
     "text": [
      "Среднее время прохождения этапов приложения от регистрации до покупки у пользователей, завершивших обучение: 4 days 00:30:03.247408431\n"
     ]
    },
    {
     "data": {
      "text/plain": [
       "reg_tut_start_timedelta             0 days 04:31:04.938146341\n",
       "tut_start_tut_finish_timedelta      0 days 00:12:13.823121951\n",
       "tut_finish_level_choice_timedelta   0 days 02:19:46.959472070\n",
       "level_pack_choices_timedelta        0 days 00:05:18.146058732\n",
       "pack_choice_purchase_timedelta      3 days 17:17:59.641326883\n",
       "dtype: timedelta64[ns]"
      ]
     },
     "execution_count": 16,
     "metadata": {},
     "output_type": "execute_result"
    }
   ],
   "source": [
    "# выводим среднее значение времени прохождения \n",
    "# этапов приложения пользователями завершившими обучение\n",
    "tfu_bar_data = tfu_time_table[\n",
    "    ['reg_tut_start_timedelta', \n",
    "    'tut_start_tut_finish_timedelta', \n",
    "    'tut_finish_level_choice_timedelta', \n",
    "    'level_pack_choices_timedelta', \n",
    "    'pack_choice_purchase_timedelta']\n",
    "].mean()\n",
    "\n",
    "print('Среднее время прохождения этапов приложения \\\n",
    "от регистрации до покупки у пользователей, завершивших \\\n",
    "обучение:', tfu_time_table['reg_purchase_timedelta'].mean()\n",
    ")\n",
    "\n",
    "tfu_bar_data"
   ]
  },
  {
   "cell_type": "code",
   "execution_count": 17,
   "metadata": {
    "id": "6Ik7BdAVeEvR"
   },
   "outputs": [],
   "source": [
    "# создаем сводную таблицу с данными о пользователях, \n",
    "# которые не начинали проходить обучение\n",
    "tns_time_table = time_pivot_table[\n",
    "    time_pivot_table['tutorial_status'] == 'tut_not_started'].copy() # копируем для издежания SettingWithCopyWarning\n",
    "# удаляем столбцы, где все значения пустые\n",
    "tns_time_table.dropna(\n",
    "    axis=1, \n",
    "    how='all', \n",
    "    inplace=True\n",
    ")\n",
    "# создаем признаки timedelta между пройденными \n",
    "# этапами группой пользователей\n",
    "tns_time_table['reg_level_choice_timedelta'] = tns_time_table['level_choice'] - tns_time_table['registration']\n",
    "tns_time_table['level_pack_choices_timedelta'] = tns_time_table['pack_choice'] - tns_time_table['level_choice']\n",
    "tns_time_table['pack_choice_purchase_timedelta'] = tns_time_table['purchase'] - tns_time_table['pack_choice']\n",
    "tns_time_table['reg_purchase_timedelta'] = tns_time_table['purchase'] - tns_time_table['registration']"
   ]
  },
  {
   "cell_type": "code",
   "execution_count": 18,
   "metadata": {
    "colab": {
     "base_uri": "https://localhost:8080/"
    },
    "id": "LHEF0ZGzeEvR",
    "outputId": "2a54407e-9c63-497b-db4c-0a154d1a9ae7"
   },
   "outputs": [
    {
     "name": "stdout",
     "output_type": "stream",
     "text": [
      "Среднее время прохождения этапов приложения от регистрации до покупки у пользователей, не начинавших обучение: 4 days 09:06:01.909090909\n"
     ]
    },
    {
     "data": {
      "text/plain": [
       "reg_level_choice_timedelta       0 days 05:15:33.122448979\n",
       "level_pack_choices_timedelta     0 days 00:05:23.824324324\n",
       "pack_choice_purchase_timedelta   4 days 04:49:33.590909090\n",
       "dtype: timedelta64[ns]"
      ]
     },
     "execution_count": 18,
     "metadata": {},
     "output_type": "execute_result"
    }
   ],
   "source": [
    "# выводим среднее время прохождения этапов \n",
    "# приложения пользователями не начинавшими обучение\n",
    "tns_bar_data = tns_time_table[\n",
    "    ['reg_level_choice_timedelta', \n",
    "    'level_pack_choices_timedelta', \n",
    "    'pack_choice_purchase_timedelta']\n",
    "].mean()\n",
    "\n",
    "print('Среднее время прохождения этапов приложения от \\\n",
    "регистрации до покупки у пользователей, не начинавших \\\n",
    "обучение:', tns_time_table['reg_purchase_timedelta'].mean()\n",
    ")\n",
    "\n",
    "tns_bar_data"
   ]
  },
  {
   "cell_type": "code",
   "execution_count": 19,
   "metadata": {
    "id": "gAQaTU2CeEvR"
   },
   "outputs": [],
   "source": [
    "# создаем сводную таблицу с данными о пользователях, \n",
    "# которые не окончили обучение\n",
    "tnf_time_table = time_pivot_table.loc[\n",
    "    time_pivot_table['tutorial_status'] == 'tut_not_finished'].copy() # копируем для издежания SettingWithCopyWarning\n",
    "# удаляем столбец, где все значения пустые\n",
    "tnf_time_table.dropna(\n",
    "    axis=1, \n",
    "    how='all', \n",
    "    inplace=True\n",
    ")\n",
    "# создаем признаки timedelta между \n",
    "# пройденными этапами группой пользователей\n",
    "tnf_time_table['reg_tut_start_timedelta'] = tnf_time_table['tutorial_start'] - tnf_time_table['registration']\n",
    "tnf_time_table['tut_start_level_choice_timedelta'] = tnf_time_table['level_choice'] - tnf_time_table['tutorial_start']\n",
    "tnf_time_table['level_pack_choices_timedelta'] = tnf_time_table['pack_choice'] - tnf_time_table['level_choice']\n",
    "tnf_time_table['pack_choice_purchase_timedelta'] = tnf_time_table['purchase'] - tnf_time_table['pack_choice']\n",
    "tnf_time_table['reg_purchase_timedelta'] = tnf_time_table['purchase'] - tnf_time_table['registration']"
   ]
  },
  {
   "cell_type": "code",
   "execution_count": 20,
   "metadata": {
    "colab": {
     "base_uri": "https://localhost:8080/"
    },
    "id": "ld3phBuDeEvR",
    "outputId": "82a2252c-6767-4337-b4f6-3ea7e57e0a52"
   },
   "outputs": [
    {
     "name": "stdout",
     "output_type": "stream",
     "text": [
      "Среднее время прохождения этапов приложения от регистрации до покупки у пользователей, не завершивших обучение: 4 days 05:32:53.213740458\n"
     ]
    },
    {
     "data": {
      "text/plain": [
       "reg_tut_start_timedelta            0 days 05:25:02.892412935\n",
       "tut_start_level_choice_timedelta   0 days 02:47:28.088829071\n",
       "level_pack_choices_timedelta       0 days 00:05:05.295687885\n",
       "pack_choice_purchase_timedelta     3 days 21:14:46.908396946\n",
       "dtype: timedelta64[ns]"
      ]
     },
     "execution_count": 20,
     "metadata": {},
     "output_type": "execute_result"
    }
   ],
   "source": [
    "# выводим среднее время прохождения этапов\n",
    "tnf_bar_data = tnf_time_table[\n",
    "    ['reg_tut_start_timedelta', \n",
    "    'tut_start_level_choice_timedelta', \n",
    "    'level_pack_choices_timedelta', \n",
    "    'pack_choice_purchase_timedelta']\n",
    "].mean()\n",
    "\n",
    "print('Среднее время прохождения этапов приложения от \\\n",
    "регистрации до покупки у пользователей, не завершивших обучение\\\n",
    ":', tnf_time_table['reg_purchase_timedelta'].mean()\n",
    ")\n",
    "\n",
    "tnf_bar_data"
   ]
  },
  {
   "cell_type": "code",
   "execution_count": 21,
   "metadata": {
    "colab": {
     "base_uri": "https://localhost:8080/",
     "height": 542
    },
    "id": "PBd4VmyTeEvS",
    "outputId": "27009cfa-a9cf-4325-ef86-0b9906d1c488"
   },
   "outputs": [
    {
     "data": {
      "application/vnd.plotly.v1+json": {
       "config": {
        "plotlyServerURL": "https://plot.ly"
       },
       "data": [
        {
         "type": "bar",
         "x": [
          "reg_tut_start_timedelta",
          "tut_start_tut_finish_timedelta",
          "tut_finish_level_choice_timedelta",
          "level_pack_choices_timedelta",
          "pack_choice_purchase_timedelta"
         ],
         "xaxis": "x",
         "y": [
          16264938146341,
          733823121951,
          8386959472070,
          318146058732,
          321479641326883
         ],
         "yaxis": "y"
        },
        {
         "type": "bar",
         "x": [
          "reg_level_choice_timedelta",
          "level_pack_choices_timedelta",
          "pack_choice_purchase_timedelta"
         ],
         "xaxis": "x2",
         "y": [
          18933122448979,
          323824324324,
          362973590909090
         ],
         "yaxis": "y2"
        },
        {
         "type": "bar",
         "x": [
          "reg_tut_start_timedelta",
          "tut_start_level_choice_timedelta",
          "level_pack_choices_timedelta",
          "pack_choice_purchase_timedelta"
         ],
         "xaxis": "x3",
         "y": [
          19502892412935,
          10048088829071,
          305295687885,
          335686908396946
         ],
         "yaxis": "y3"
        }
       ],
       "layout": {
        "annotations": [
         {
          "font": {
           "size": 16
          },
          "showarrow": false,
          "text": "Tutorial finished<br>users mean time",
          "x": 0.14444444444444446,
          "xanchor": "center",
          "xref": "paper",
          "y": 1,
          "yanchor": "bottom",
          "yref": "paper"
         },
         {
          "font": {
           "size": 16
          },
          "showarrow": false,
          "text": "Tutorial not started<br>users mean time",
          "x": 0.5,
          "xanchor": "center",
          "xref": "paper",
          "y": 1,
          "yanchor": "bottom",
          "yref": "paper"
         },
         {
          "font": {
           "size": 16
          },
          "showarrow": false,
          "text": "Tutorial not finished<br> mean time",
          "x": 0.8555555555555556,
          "xanchor": "center",
          "xref": "paper",
          "y": 1,
          "yanchor": "bottom",
          "yref": "paper"
         }
        ],
        "showlegend": false,
        "template": {
         "data": {
          "bar": [
           {
            "error_x": {
             "color": "#2a3f5f"
            },
            "error_y": {
             "color": "#2a3f5f"
            },
            "marker": {
             "line": {
              "color": "#E5ECF6",
              "width": 0.5
             },
             "pattern": {
              "fillmode": "overlay",
              "size": 10,
              "solidity": 0.2
             }
            },
            "type": "bar"
           }
          ],
          "barpolar": [
           {
            "marker": {
             "line": {
              "color": "#E5ECF6",
              "width": 0.5
             },
             "pattern": {
              "fillmode": "overlay",
              "size": 10,
              "solidity": 0.2
             }
            },
            "type": "barpolar"
           }
          ],
          "carpet": [
           {
            "aaxis": {
             "endlinecolor": "#2a3f5f",
             "gridcolor": "white",
             "linecolor": "white",
             "minorgridcolor": "white",
             "startlinecolor": "#2a3f5f"
            },
            "baxis": {
             "endlinecolor": "#2a3f5f",
             "gridcolor": "white",
             "linecolor": "white",
             "minorgridcolor": "white",
             "startlinecolor": "#2a3f5f"
            },
            "type": "carpet"
           }
          ],
          "choropleth": [
           {
            "colorbar": {
             "outlinewidth": 0,
             "ticks": ""
            },
            "type": "choropleth"
           }
          ],
          "contour": [
           {
            "colorbar": {
             "outlinewidth": 0,
             "ticks": ""
            },
            "colorscale": [
             [
              0,
              "#0d0887"
             ],
             [
              0.1111111111111111,
              "#46039f"
             ],
             [
              0.2222222222222222,
              "#7201a8"
             ],
             [
              0.3333333333333333,
              "#9c179e"
             ],
             [
              0.4444444444444444,
              "#bd3786"
             ],
             [
              0.5555555555555556,
              "#d8576b"
             ],
             [
              0.6666666666666666,
              "#ed7953"
             ],
             [
              0.7777777777777778,
              "#fb9f3a"
             ],
             [
              0.8888888888888888,
              "#fdca26"
             ],
             [
              1,
              "#f0f921"
             ]
            ],
            "type": "contour"
           }
          ],
          "contourcarpet": [
           {
            "colorbar": {
             "outlinewidth": 0,
             "ticks": ""
            },
            "type": "contourcarpet"
           }
          ],
          "heatmap": [
           {
            "colorbar": {
             "outlinewidth": 0,
             "ticks": ""
            },
            "colorscale": [
             [
              0,
              "#0d0887"
             ],
             [
              0.1111111111111111,
              "#46039f"
             ],
             [
              0.2222222222222222,
              "#7201a8"
             ],
             [
              0.3333333333333333,
              "#9c179e"
             ],
             [
              0.4444444444444444,
              "#bd3786"
             ],
             [
              0.5555555555555556,
              "#d8576b"
             ],
             [
              0.6666666666666666,
              "#ed7953"
             ],
             [
              0.7777777777777778,
              "#fb9f3a"
             ],
             [
              0.8888888888888888,
              "#fdca26"
             ],
             [
              1,
              "#f0f921"
             ]
            ],
            "type": "heatmap"
           }
          ],
          "heatmapgl": [
           {
            "colorbar": {
             "outlinewidth": 0,
             "ticks": ""
            },
            "colorscale": [
             [
              0,
              "#0d0887"
             ],
             [
              0.1111111111111111,
              "#46039f"
             ],
             [
              0.2222222222222222,
              "#7201a8"
             ],
             [
              0.3333333333333333,
              "#9c179e"
             ],
             [
              0.4444444444444444,
              "#bd3786"
             ],
             [
              0.5555555555555556,
              "#d8576b"
             ],
             [
              0.6666666666666666,
              "#ed7953"
             ],
             [
              0.7777777777777778,
              "#fb9f3a"
             ],
             [
              0.8888888888888888,
              "#fdca26"
             ],
             [
              1,
              "#f0f921"
             ]
            ],
            "type": "heatmapgl"
           }
          ],
          "histogram": [
           {
            "marker": {
             "pattern": {
              "fillmode": "overlay",
              "size": 10,
              "solidity": 0.2
             }
            },
            "type": "histogram"
           }
          ],
          "histogram2d": [
           {
            "colorbar": {
             "outlinewidth": 0,
             "ticks": ""
            },
            "colorscale": [
             [
              0,
              "#0d0887"
             ],
             [
              0.1111111111111111,
              "#46039f"
             ],
             [
              0.2222222222222222,
              "#7201a8"
             ],
             [
              0.3333333333333333,
              "#9c179e"
             ],
             [
              0.4444444444444444,
              "#bd3786"
             ],
             [
              0.5555555555555556,
              "#d8576b"
             ],
             [
              0.6666666666666666,
              "#ed7953"
             ],
             [
              0.7777777777777778,
              "#fb9f3a"
             ],
             [
              0.8888888888888888,
              "#fdca26"
             ],
             [
              1,
              "#f0f921"
             ]
            ],
            "type": "histogram2d"
           }
          ],
          "histogram2dcontour": [
           {
            "colorbar": {
             "outlinewidth": 0,
             "ticks": ""
            },
            "colorscale": [
             [
              0,
              "#0d0887"
             ],
             [
              0.1111111111111111,
              "#46039f"
             ],
             [
              0.2222222222222222,
              "#7201a8"
             ],
             [
              0.3333333333333333,
              "#9c179e"
             ],
             [
              0.4444444444444444,
              "#bd3786"
             ],
             [
              0.5555555555555556,
              "#d8576b"
             ],
             [
              0.6666666666666666,
              "#ed7953"
             ],
             [
              0.7777777777777778,
              "#fb9f3a"
             ],
             [
              0.8888888888888888,
              "#fdca26"
             ],
             [
              1,
              "#f0f921"
             ]
            ],
            "type": "histogram2dcontour"
           }
          ],
          "mesh3d": [
           {
            "colorbar": {
             "outlinewidth": 0,
             "ticks": ""
            },
            "type": "mesh3d"
           }
          ],
          "parcoords": [
           {
            "line": {
             "colorbar": {
              "outlinewidth": 0,
              "ticks": ""
             }
            },
            "type": "parcoords"
           }
          ],
          "pie": [
           {
            "automargin": true,
            "type": "pie"
           }
          ],
          "scatter": [
           {
            "fillpattern": {
             "fillmode": "overlay",
             "size": 10,
             "solidity": 0.2
            },
            "type": "scatter"
           }
          ],
          "scatter3d": [
           {
            "line": {
             "colorbar": {
              "outlinewidth": 0,
              "ticks": ""
             }
            },
            "marker": {
             "colorbar": {
              "outlinewidth": 0,
              "ticks": ""
             }
            },
            "type": "scatter3d"
           }
          ],
          "scattercarpet": [
           {
            "marker": {
             "colorbar": {
              "outlinewidth": 0,
              "ticks": ""
             }
            },
            "type": "scattercarpet"
           }
          ],
          "scattergeo": [
           {
            "marker": {
             "colorbar": {
              "outlinewidth": 0,
              "ticks": ""
             }
            },
            "type": "scattergeo"
           }
          ],
          "scattergl": [
           {
            "marker": {
             "colorbar": {
              "outlinewidth": 0,
              "ticks": ""
             }
            },
            "type": "scattergl"
           }
          ],
          "scattermapbox": [
           {
            "marker": {
             "colorbar": {
              "outlinewidth": 0,
              "ticks": ""
             }
            },
            "type": "scattermapbox"
           }
          ],
          "scatterpolar": [
           {
            "marker": {
             "colorbar": {
              "outlinewidth": 0,
              "ticks": ""
             }
            },
            "type": "scatterpolar"
           }
          ],
          "scatterpolargl": [
           {
            "marker": {
             "colorbar": {
              "outlinewidth": 0,
              "ticks": ""
             }
            },
            "type": "scatterpolargl"
           }
          ],
          "scatterternary": [
           {
            "marker": {
             "colorbar": {
              "outlinewidth": 0,
              "ticks": ""
             }
            },
            "type": "scatterternary"
           }
          ],
          "surface": [
           {
            "colorbar": {
             "outlinewidth": 0,
             "ticks": ""
            },
            "colorscale": [
             [
              0,
              "#0d0887"
             ],
             [
              0.1111111111111111,
              "#46039f"
             ],
             [
              0.2222222222222222,
              "#7201a8"
             ],
             [
              0.3333333333333333,
              "#9c179e"
             ],
             [
              0.4444444444444444,
              "#bd3786"
             ],
             [
              0.5555555555555556,
              "#d8576b"
             ],
             [
              0.6666666666666666,
              "#ed7953"
             ],
             [
              0.7777777777777778,
              "#fb9f3a"
             ],
             [
              0.8888888888888888,
              "#fdca26"
             ],
             [
              1,
              "#f0f921"
             ]
            ],
            "type": "surface"
           }
          ],
          "table": [
           {
            "cells": {
             "fill": {
              "color": "#EBF0F8"
             },
             "line": {
              "color": "white"
             }
            },
            "header": {
             "fill": {
              "color": "#C8D4E3"
             },
             "line": {
              "color": "white"
             }
            },
            "type": "table"
           }
          ]
         },
         "layout": {
          "annotationdefaults": {
           "arrowcolor": "#2a3f5f",
           "arrowhead": 0,
           "arrowwidth": 1
          },
          "autotypenumbers": "strict",
          "coloraxis": {
           "colorbar": {
            "outlinewidth": 0,
            "ticks": ""
           }
          },
          "colorscale": {
           "diverging": [
            [
             0,
             "#8e0152"
            ],
            [
             0.1,
             "#c51b7d"
            ],
            [
             0.2,
             "#de77ae"
            ],
            [
             0.3,
             "#f1b6da"
            ],
            [
             0.4,
             "#fde0ef"
            ],
            [
             0.5,
             "#f7f7f7"
            ],
            [
             0.6,
             "#e6f5d0"
            ],
            [
             0.7,
             "#b8e186"
            ],
            [
             0.8,
             "#7fbc41"
            ],
            [
             0.9,
             "#4d9221"
            ],
            [
             1,
             "#276419"
            ]
           ],
           "sequential": [
            [
             0,
             "#0d0887"
            ],
            [
             0.1111111111111111,
             "#46039f"
            ],
            [
             0.2222222222222222,
             "#7201a8"
            ],
            [
             0.3333333333333333,
             "#9c179e"
            ],
            [
             0.4444444444444444,
             "#bd3786"
            ],
            [
             0.5555555555555556,
             "#d8576b"
            ],
            [
             0.6666666666666666,
             "#ed7953"
            ],
            [
             0.7777777777777778,
             "#fb9f3a"
            ],
            [
             0.8888888888888888,
             "#fdca26"
            ],
            [
             1,
             "#f0f921"
            ]
           ],
           "sequentialminus": [
            [
             0,
             "#0d0887"
            ],
            [
             0.1111111111111111,
             "#46039f"
            ],
            [
             0.2222222222222222,
             "#7201a8"
            ],
            [
             0.3333333333333333,
             "#9c179e"
            ],
            [
             0.4444444444444444,
             "#bd3786"
            ],
            [
             0.5555555555555556,
             "#d8576b"
            ],
            [
             0.6666666666666666,
             "#ed7953"
            ],
            [
             0.7777777777777778,
             "#fb9f3a"
            ],
            [
             0.8888888888888888,
             "#fdca26"
            ],
            [
             1,
             "#f0f921"
            ]
           ]
          },
          "colorway": [
           "#636efa",
           "#EF553B",
           "#00cc96",
           "#ab63fa",
           "#FFA15A",
           "#19d3f3",
           "#FF6692",
           "#B6E880",
           "#FF97FF",
           "#FECB52"
          ],
          "font": {
           "color": "#2a3f5f"
          },
          "geo": {
           "bgcolor": "white",
           "lakecolor": "white",
           "landcolor": "#E5ECF6",
           "showlakes": true,
           "showland": true,
           "subunitcolor": "white"
          },
          "hoverlabel": {
           "align": "left"
          },
          "hovermode": "closest",
          "mapbox": {
           "style": "light"
          },
          "paper_bgcolor": "white",
          "plot_bgcolor": "#E5ECF6",
          "polar": {
           "angularaxis": {
            "gridcolor": "white",
            "linecolor": "white",
            "ticks": ""
           },
           "bgcolor": "#E5ECF6",
           "radialaxis": {
            "gridcolor": "white",
            "linecolor": "white",
            "ticks": ""
           }
          },
          "scene": {
           "xaxis": {
            "backgroundcolor": "#E5ECF6",
            "gridcolor": "white",
            "gridwidth": 2,
            "linecolor": "white",
            "showbackground": true,
            "ticks": "",
            "zerolinecolor": "white"
           },
           "yaxis": {
            "backgroundcolor": "#E5ECF6",
            "gridcolor": "white",
            "gridwidth": 2,
            "linecolor": "white",
            "showbackground": true,
            "ticks": "",
            "zerolinecolor": "white"
           },
           "zaxis": {
            "backgroundcolor": "#E5ECF6",
            "gridcolor": "white",
            "gridwidth": 2,
            "linecolor": "white",
            "showbackground": true,
            "ticks": "",
            "zerolinecolor": "white"
           }
          },
          "shapedefaults": {
           "line": {
            "color": "#2a3f5f"
           }
          },
          "ternary": {
           "aaxis": {
            "gridcolor": "white",
            "linecolor": "white",
            "ticks": ""
           },
           "baxis": {
            "gridcolor": "white",
            "linecolor": "white",
            "ticks": ""
           },
           "bgcolor": "#E5ECF6",
           "caxis": {
            "gridcolor": "white",
            "linecolor": "white",
            "ticks": ""
           }
          },
          "title": {
           "x": 0.05
          },
          "xaxis": {
           "automargin": true,
           "gridcolor": "white",
           "linecolor": "white",
           "ticks": "",
           "title": {
            "standoff": 15
           },
           "zerolinecolor": "white",
           "zerolinewidth": 2
          },
          "yaxis": {
           "automargin": true,
           "gridcolor": "white",
           "linecolor": "white",
           "ticks": "",
           "title": {
            "standoff": 15
           },
           "zerolinecolor": "white",
           "zerolinewidth": 2
          }
         }
        },
        "title": {
         "text": "Среднее время прохождения этапов Quize Freeze пользователями<br> "
        },
        "xaxis": {
         "anchor": "y",
         "domain": [
          0,
          0.2888888888888889
         ]
        },
        "xaxis2": {
         "anchor": "y2",
         "domain": [
          0.35555555555555557,
          0.6444444444444445
         ]
        },
        "xaxis3": {
         "anchor": "y3",
         "domain": [
          0.7111111111111111,
          1
         ]
        },
        "yaxis": {
         "anchor": "x",
         "domain": [
          0,
          1
         ]
        },
        "yaxis2": {
         "anchor": "x2",
         "domain": [
          0,
          1
         ],
         "matches": "y",
         "showticklabels": false
        },
        "yaxis3": {
         "anchor": "x3",
         "domain": [
          0,
          1
         ],
         "matches": "y",
         "showticklabels": false
        }
       }
      }
     },
     "metadata": {},
     "output_type": "display_data"
    }
   ],
   "source": [
    "# загружаем plotly.subplots для отображения \n",
    "# нескольких графиков для каждой группы пользователей\n",
    "from plotly.subplots import make_subplots\n",
    "\n",
    "# создаем столбчатые диаграммы отображающие \n",
    "# среднее время прохождения этапов приложения группами пользователей\n",
    "fig = make_subplots(rows=1, cols=3, shared_yaxes=True, \n",
    "                    subplot_titles=('Tutorial finished<br>users mean time', \n",
    "                                    'Tutorial not started<br>users mean time', \n",
    "                                    'Tutorial not finished<br> mean time'))\n",
    "\n",
    "fig.add_trace(go.Bar(x=tfu_bar_data.index, y=tfu_bar_data), \n",
    "            row=1, col=1)\n",
    "\n",
    "fig.add_trace(go.Bar(x=tns_bar_data.index, y=tns_bar_data),\n",
    "            row=1, col=2)\n",
    "\n",
    "fig.add_trace(go.Bar(x=tnf_bar_data.index, y=tnf_bar_data),\n",
    "            row=1, col=3)\n",
    "\n",
    "fig.update_layout(showlegend=False, title_text='Среднее время прохождения \\\n",
    "этапов Quize Freeze пользователями<br> ')\n",
    "fig.show()"
   ]
  },
  {
   "cell_type": "markdown",
   "metadata": {
    "id": "zjaC8KaReEvS"
   },
   "source": [
    "Пользователи, которые начинали обучение, быстрее проходят все этапы приложения Quize Freez. Среднее время прохождения этапов приложения от регистрации до этапа покупки платных вопросов у пользователей, которые завершили обучение составляет 4 дня 30 минут, что на 5 часов меньше среднего времени прохождения всех этапов у пользователей, не завершивших обучение и на 8 часов 36 минут меньше среднего времени прохождения всех этапов у пользователей, которые не начинали обучение.\n",
    "\n",
    "Пользователи, которые не проходили и не начинали обучение, медленнее других проходят этапы приложения. Так, этим пользователям для совершения покупки платных вопросов после этапа выбора бесплатных вопросов требуется в среднем на 11 часов больше."
   ]
  },
  {
   "cell_type": "markdown",
   "metadata": {
    "id": "l-EKJDP4eEvS"
   },
   "source": [
    "## Выводы по Гипотезе 1\n",
    "\n",
    "Аннализ данных показывает, что действительно пользователи по-разному взаимодействуют с приложением Quize Freez. Можно выделить 3 группы пользователей: пользователи, которые прошли обучение; пользователи, которые не начинали проходить обучение; пользователи, которые начинали проходить обучение, но не окончили его.\n",
    "\n",
    "Воронка прохождения пользователями этапов приложения показывает, что около 60% пользователей зарегистрировшихся в приложении в дальнейшем приступили к началу обучения. Также, пользователи, которые в дальнейшем окончили обучение, составяют 90% тех, кто приступил к этапам выбора уровня сложности, выбора бесплатных вопросов и оплату платных вопросов.\n",
    "\n",
    "Наименьшее число пользователей, которые приступили к следующим этапам приложения составили те, кто полностью пропустил этап обучения.\n",
    "\n",
    "Пользователи, которые завершили этап обучения, демонстрирует бОльшую вовлеченность уже на первых этапах приложения. Их среднее время прохождения от этапа регистрации до этапа покупки платных вопросов составляет 4 дня 30 минут, что мешьше среднего времени прохождения всех этапов пользователями, которые не завершили обучение (на 5 часов) или не начинали обучение (на 8 часов 36 минут).\n",
    "\n",
    "Также пользователи, завершившие обучение, в среднем быстрее приступают к этапам приложения, что остальные пользователи:\n",
    "1. 58 минут - этап регистрации;\n",
    "2. 2:56 минут - этап выбора уровня;\n",
    "3. 11 часов - этап покупки платных вопросов.\n",
    "\n",
    "Таким образом, пользователи, завершившие обучение проходят все этапы приложения быстрее остальных пользователей. Можно сделать вывод, что обучение повышает вовлеченность и мотивирует пользователей проходить приложение.\n",
    "\n",
    "Количество пользователей, которые не начинали обучение, весьма большое - 40% от общего числа пользователей. Стоит рассмотреть варианты вовлечения этих пользователей в этап обучения."
   ]
  },
  {
   "cell_type": "markdown",
   "metadata": {
    "id": "ehv0s9iteEvS"
   },
   "source": [
    "# Проверка Гипотезы 2"
   ]
  },
  {
   "cell_type": "markdown",
   "metadata": {
    "id": "pNcF5R26eEvS"
   },
   "source": [
    "## 2.1 Для проверки Гипотезы о том, что успешное обучение само по себе влияет на вероятность оплаты, выделим группы пользователей по количеству начатых/завершенных обучений"
   ]
  },
  {
   "cell_type": "code",
   "execution_count": 22,
   "metadata": {
    "colab": {
     "base_uri": "https://localhost:8080/"
    },
    "id": "2-kyBthyeEvT",
    "outputId": "3a075abd-9977-4b04-f7af-5f107f7f2761"
   },
   "outputs": [
    {
     "name": "stdout",
     "output_type": "stream",
     "text": [
      "Количество пользоввателей, совершивших покупку платных вопросов: 1600\n",
      "Процент пользоввателей, совершивших покупку платных вопросов от общего числа пользователей: 8.03%\n"
     ]
    }
   ],
   "source": [
    "# создаем список пользователей, которые совершили покупку\n",
    "purchased_user_list = df[\n",
    "    df['event_type'] == 'purchase']['user_id'].to_list()\n",
    "\n",
    "print('Количество пользоввателей, совершивших \\\n",
    "покупку платных вопросов:', len(purchased_user_list)\n",
    ")\n",
    "print('Процент пользоввателей, совершивших \\\n",
    "покупку платных вопросов от общего числа пользователей: {:.2%}'.format(len(purchased_user_list)/all_users_cnt)\n",
    ")"
   ]
  },
  {
   "cell_type": "code",
   "execution_count": 23,
   "metadata": {
    "colab": {
     "base_uri": "https://localhost:8080/",
     "height": 206
    },
    "id": "DDzARqpkeEvT",
    "outputId": "38d4eb53-7a13-4607-911b-e91a33595cf4"
   },
   "outputs": [
    {
     "data": {
      "text/html": [
       "<div>\n",
       "<style scoped>\n",
       "    .dataframe tbody tr th:only-of-type {\n",
       "        vertical-align: middle;\n",
       "    }\n",
       "\n",
       "    .dataframe tbody tr th {\n",
       "        vertical-align: top;\n",
       "    }\n",
       "\n",
       "    .dataframe thead th {\n",
       "        text-align: right;\n",
       "    }\n",
       "</style>\n",
       "<table border=\"1\" class=\"dataframe\">\n",
       "  <thead>\n",
       "    <tr style=\"text-align: right;\">\n",
       "      <th></th>\n",
       "      <th>event_id</th>\n",
       "      <th>event_type</th>\n",
       "      <th>selected_level</th>\n",
       "      <th>start_time</th>\n",
       "      <th>tutorial_id</th>\n",
       "      <th>user_id</th>\n",
       "      <th>amount</th>\n",
       "      <th>tutorial_status</th>\n",
       "      <th>user_status</th>\n",
       "    </tr>\n",
       "  </thead>\n",
       "  <tbody>\n",
       "    <tr>\n",
       "      <th>68554</th>\n",
       "      <td>18441</td>\n",
       "      <td>purchase</td>\n",
       "      <td>NaN</td>\n",
       "      <td>2019-01-02 03:48:19</td>\n",
       "      <td>NaN</td>\n",
       "      <td>47498</td>\n",
       "      <td>100.0</td>\n",
       "      <td>tut_finished</td>\n",
       "      <td>1</td>\n",
       "    </tr>\n",
       "    <tr>\n",
       "      <th>68555</th>\n",
       "      <td>18442</td>\n",
       "      <td>purchase</td>\n",
       "      <td>NaN</td>\n",
       "      <td>2019-01-02 23:26:26</td>\n",
       "      <td>NaN</td>\n",
       "      <td>47647</td>\n",
       "      <td>150.0</td>\n",
       "      <td>tut_finished</td>\n",
       "      <td>1</td>\n",
       "    </tr>\n",
       "    <tr>\n",
       "      <th>68556</th>\n",
       "      <td>18443</td>\n",
       "      <td>purchase</td>\n",
       "      <td>NaN</td>\n",
       "      <td>2019-01-03 00:36:36</td>\n",
       "      <td>NaN</td>\n",
       "      <td>47554</td>\n",
       "      <td>50.0</td>\n",
       "      <td>tut_finished</td>\n",
       "      <td>1</td>\n",
       "    </tr>\n",
       "    <tr>\n",
       "      <th>68557</th>\n",
       "      <td>18448</td>\n",
       "      <td>purchase</td>\n",
       "      <td>NaN</td>\n",
       "      <td>2019-01-04 12:51:41</td>\n",
       "      <td>NaN</td>\n",
       "      <td>47742</td>\n",
       "      <td>50.0</td>\n",
       "      <td>tut_finished</td>\n",
       "      <td>1</td>\n",
       "    </tr>\n",
       "    <tr>\n",
       "      <th>68558</th>\n",
       "      <td>18452</td>\n",
       "      <td>purchase</td>\n",
       "      <td>NaN</td>\n",
       "      <td>2019-01-06 07:14:25</td>\n",
       "      <td>NaN</td>\n",
       "      <td>47732</td>\n",
       "      <td>150.0</td>\n",
       "      <td>tut_finished</td>\n",
       "      <td>1</td>\n",
       "    </tr>\n",
       "  </tbody>\n",
       "</table>\n",
       "</div>"
      ],
      "text/plain": [
       "       event_id event_type selected_level          start_time  tutorial_id  \\\n",
       "68554     18441   purchase            NaN 2019-01-02 03:48:19          NaN   \n",
       "68555     18442   purchase            NaN 2019-01-02 23:26:26          NaN   \n",
       "68556     18443   purchase            NaN 2019-01-03 00:36:36          NaN   \n",
       "68557     18448   purchase            NaN 2019-01-04 12:51:41          NaN   \n",
       "68558     18452   purchase            NaN 2019-01-06 07:14:25          NaN   \n",
       "\n",
       "       user_id  amount tutorial_status  user_status  \n",
       "68554    47498   100.0    tut_finished            1  \n",
       "68555    47647   150.0    tut_finished            1  \n",
       "68556    47554    50.0    tut_finished            1  \n",
       "68557    47742    50.0    tut_finished            1  \n",
       "68558    47732   150.0    tut_finished            1  "
      ]
     },
     "execution_count": 23,
     "metadata": {},
     "output_type": "execute_result"
    }
   ],
   "source": [
    "# создаем функция для определения статуса пользователя,\n",
    "# если пользователь совершил покупку, его статус - 1, если нет - 0\n",
    "def get_user_status(user_id):\n",
    "    if user_id in purchased_user_list:\n",
    "        return 1\n",
    "    else:\n",
    "        return 0\n",
    "\n",
    "df['user_status'] = df['user_id'].apply(get_user_status)\n",
    "df.tail()"
   ]
  },
  {
   "cell_type": "code",
   "execution_count": 24,
   "metadata": {},
   "outputs": [
    {
     "data": {
      "text/html": [
       "<div>\n",
       "<style scoped>\n",
       "    .dataframe tbody tr th:only-of-type {\n",
       "        vertical-align: middle;\n",
       "    }\n",
       "\n",
       "    .dataframe tbody tr th {\n",
       "        vertical-align: top;\n",
       "    }\n",
       "\n",
       "    .dataframe thead th {\n",
       "        text-align: right;\n",
       "    }\n",
       "</style>\n",
       "<table border=\"1\" class=\"dataframe\">\n",
       "  <thead>\n",
       "    <tr style=\"text-align: right;\">\n",
       "      <th></th>\n",
       "      <th>user_id</th>\n",
       "      <th>tutorial_start_count</th>\n",
       "    </tr>\n",
       "  </thead>\n",
       "  <tbody>\n",
       "    <tr>\n",
       "      <th>0</th>\n",
       "      <td>27833</td>\n",
       "      <td>1</td>\n",
       "    </tr>\n",
       "    <tr>\n",
       "      <th>1</th>\n",
       "      <td>27834</td>\n",
       "      <td>1</td>\n",
       "    </tr>\n",
       "    <tr>\n",
       "      <th>2</th>\n",
       "      <td>27835</td>\n",
       "      <td>1</td>\n",
       "    </tr>\n",
       "    <tr>\n",
       "      <th>3</th>\n",
       "      <td>27836</td>\n",
       "      <td>2</td>\n",
       "    </tr>\n",
       "    <tr>\n",
       "      <th>4</th>\n",
       "      <td>27839</td>\n",
       "      <td>1</td>\n",
       "    </tr>\n",
       "  </tbody>\n",
       "</table>\n",
       "</div>"
      ],
      "text/plain": [
       "   user_id  tutorial_start_count\n",
       "0    27833                     1\n",
       "1    27834                     1\n",
       "2    27835                     1\n",
       "3    27836                     2\n",
       "4    27839                     1"
      ]
     },
     "execution_count": 24,
     "metadata": {},
     "output_type": "execute_result"
    }
   ],
   "source": [
    "# создаем DataFrame с количеством начатых обучений\n",
    "# каждого пользователя\n",
    "tutorial_start_count_df = df[\n",
    "    df['event_type'] == 'tutorial_start'].groupby(\n",
    "        ['user_id']).count().reset_index()\n",
    "    \n",
    "tutorial_start_count = tutorial_start_count_df[\n",
    "    ['user_id', 'event_type']\n",
    "].rename(columns={'event_type': 'tutorial_start_count'}\n",
    ")\n",
    "tutorial_start_count.head()"
   ]
  },
  {
   "cell_type": "code",
   "execution_count": 25,
   "metadata": {},
   "outputs": [
    {
     "data": {
      "text/plain": [
       "count    11858.000000\n",
       "mean         1.522179\n",
       "std          1.347414\n",
       "min          1.000000\n",
       "25%          1.000000\n",
       "50%          1.000000\n",
       "75%          1.000000\n",
       "max          9.000000\n",
       "Name: tutorial_start_count, dtype: float64"
      ]
     },
     "execution_count": 25,
     "metadata": {},
     "output_type": "execute_result"
    }
   ],
   "source": [
    "# выводим статистику по количеству начатых обучений\n",
    "tutorial_start_count['tutorial_start_count'].describe()"
   ]
  },
  {
   "cell_type": "markdown",
   "metadata": {},
   "source": [
    "Всего 11 858 пользователей предприняли попытку пройти обучение. Минимальное число попыток начать обучение - 1 попытка. При том, 75% пользователей предприняли всего 1 попытку пройти обучение.\n",
    "Максимальное число - 9 попыток. "
   ]
  },
  {
   "cell_type": "code",
   "execution_count": 26,
   "metadata": {},
   "outputs": [
    {
     "data": {
      "text/html": [
       "<div>\n",
       "<style scoped>\n",
       "    .dataframe tbody tr th:only-of-type {\n",
       "        vertical-align: middle;\n",
       "    }\n",
       "\n",
       "    .dataframe tbody tr th {\n",
       "        vertical-align: top;\n",
       "    }\n",
       "\n",
       "    .dataframe thead th {\n",
       "        text-align: right;\n",
       "    }\n",
       "</style>\n",
       "<table border=\"1\" class=\"dataframe\">\n",
       "  <thead>\n",
       "    <tr style=\"text-align: right;\">\n",
       "      <th></th>\n",
       "      <th>user_id</th>\n",
       "      <th>tutorial_finish_count</th>\n",
       "    </tr>\n",
       "  </thead>\n",
       "  <tbody>\n",
       "    <tr>\n",
       "      <th>0</th>\n",
       "      <td>27833</td>\n",
       "      <td>1</td>\n",
       "    </tr>\n",
       "    <tr>\n",
       "      <th>1</th>\n",
       "      <td>27834</td>\n",
       "      <td>1</td>\n",
       "    </tr>\n",
       "    <tr>\n",
       "      <th>2</th>\n",
       "      <td>27835</td>\n",
       "      <td>1</td>\n",
       "    </tr>\n",
       "    <tr>\n",
       "      <th>3</th>\n",
       "      <td>27836</td>\n",
       "      <td>1</td>\n",
       "    </tr>\n",
       "    <tr>\n",
       "      <th>4</th>\n",
       "      <td>27839</td>\n",
       "      <td>1</td>\n",
       "    </tr>\n",
       "  </tbody>\n",
       "</table>\n",
       "</div>"
      ],
      "text/plain": [
       "   user_id  tutorial_finish_count\n",
       "0    27833                      1\n",
       "1    27834                      1\n",
       "2    27835                      1\n",
       "3    27836                      1\n",
       "4    27839                      1"
      ]
     },
     "execution_count": 26,
     "metadata": {},
     "output_type": "execute_result"
    }
   ],
   "source": [
    "# создаем DataFrame с количеством завершенных \n",
    "# обучений каждого пользователя\n",
    "tutorial_finish_count_df = df[\n",
    "    df['event_type'] == 'tutorial_finish'].groupby(\n",
    "        ['user_id']).count().reset_index()\n",
    "    \n",
    "tutorial_finish_count = tutorial_finish_count_df[\n",
    "    ['user_id', 'event_type']\n",
    "].rename(columns={'event_type': 'tutorial_finish_count'}\n",
    ")\n",
    "tutorial_finish_count.head()"
   ]
  },
  {
   "cell_type": "code",
   "execution_count": 27,
   "metadata": {},
   "outputs": [
    {
     "data": {
      "text/plain": [
       "count    10250.000000\n",
       "mean         1.454049\n",
       "std          1.174287\n",
       "min          1.000000\n",
       "25%          1.000000\n",
       "50%          1.000000\n",
       "75%          1.000000\n",
       "max          9.000000\n",
       "Name: tutorial_finish_count, dtype: float64"
      ]
     },
     "execution_count": 27,
     "metadata": {},
     "output_type": "execute_result"
    }
   ],
   "source": [
    "# выводим статистику по количеству завершенных обучений\n",
    "tutorial_finish_count['tutorial_finish_count'].describe()"
   ]
  },
  {
   "cell_type": "markdown",
   "metadata": {},
   "source": [
    "Всего 10 250 пользователей завершили обучение. Минимальное количество завершенных обучение у пользователей - 1 обучение. Максимальное число завершенных обучений - 9 обучений."
   ]
  },
  {
   "cell_type": "code",
   "execution_count": 28,
   "metadata": {},
   "outputs": [
    {
     "data": {
      "text/html": [
       "<div>\n",
       "<style scoped>\n",
       "    .dataframe tbody tr th:only-of-type {\n",
       "        vertical-align: middle;\n",
       "    }\n",
       "\n",
       "    .dataframe tbody tr th {\n",
       "        vertical-align: top;\n",
       "    }\n",
       "\n",
       "    .dataframe thead th {\n",
       "        text-align: right;\n",
       "    }\n",
       "</style>\n",
       "<table border=\"1\" class=\"dataframe\">\n",
       "  <thead>\n",
       "    <tr style=\"text-align: right;\">\n",
       "      <th></th>\n",
       "      <th>event_id</th>\n",
       "      <th>event_type</th>\n",
       "      <th>selected_level</th>\n",
       "      <th>start_time</th>\n",
       "      <th>tutorial_id</th>\n",
       "      <th>user_id</th>\n",
       "      <th>amount</th>\n",
       "      <th>tutorial_status</th>\n",
       "      <th>user_status</th>\n",
       "      <th>tutorial_start_count</th>\n",
       "      <th>tutorial_finish_count</th>\n",
       "    </tr>\n",
       "  </thead>\n",
       "  <tbody>\n",
       "    <tr>\n",
       "      <th>68554</th>\n",
       "      <td>18441</td>\n",
       "      <td>purchase</td>\n",
       "      <td>NaN</td>\n",
       "      <td>2019-01-02 03:48:19</td>\n",
       "      <td>NaN</td>\n",
       "      <td>47498</td>\n",
       "      <td>100.0</td>\n",
       "      <td>tut_finished</td>\n",
       "      <td>1</td>\n",
       "      <td>1.0</td>\n",
       "      <td>1.0</td>\n",
       "    </tr>\n",
       "    <tr>\n",
       "      <th>68555</th>\n",
       "      <td>18442</td>\n",
       "      <td>purchase</td>\n",
       "      <td>NaN</td>\n",
       "      <td>2019-01-02 23:26:26</td>\n",
       "      <td>NaN</td>\n",
       "      <td>47647</td>\n",
       "      <td>150.0</td>\n",
       "      <td>tut_finished</td>\n",
       "      <td>1</td>\n",
       "      <td>1.0</td>\n",
       "      <td>1.0</td>\n",
       "    </tr>\n",
       "    <tr>\n",
       "      <th>68556</th>\n",
       "      <td>18443</td>\n",
       "      <td>purchase</td>\n",
       "      <td>NaN</td>\n",
       "      <td>2019-01-03 00:36:36</td>\n",
       "      <td>NaN</td>\n",
       "      <td>47554</td>\n",
       "      <td>50.0</td>\n",
       "      <td>tut_finished</td>\n",
       "      <td>1</td>\n",
       "      <td>1.0</td>\n",
       "      <td>1.0</td>\n",
       "    </tr>\n",
       "    <tr>\n",
       "      <th>68557</th>\n",
       "      <td>18448</td>\n",
       "      <td>purchase</td>\n",
       "      <td>NaN</td>\n",
       "      <td>2019-01-04 12:51:41</td>\n",
       "      <td>NaN</td>\n",
       "      <td>47742</td>\n",
       "      <td>50.0</td>\n",
       "      <td>tut_finished</td>\n",
       "      <td>1</td>\n",
       "      <td>1.0</td>\n",
       "      <td>1.0</td>\n",
       "    </tr>\n",
       "    <tr>\n",
       "      <th>68558</th>\n",
       "      <td>18452</td>\n",
       "      <td>purchase</td>\n",
       "      <td>NaN</td>\n",
       "      <td>2019-01-06 07:14:25</td>\n",
       "      <td>NaN</td>\n",
       "      <td>47732</td>\n",
       "      <td>150.0</td>\n",
       "      <td>tut_finished</td>\n",
       "      <td>1</td>\n",
       "      <td>1.0</td>\n",
       "      <td>1.0</td>\n",
       "    </tr>\n",
       "  </tbody>\n",
       "</table>\n",
       "</div>"
      ],
      "text/plain": [
       "       event_id event_type selected_level          start_time  tutorial_id  \\\n",
       "68554     18441   purchase            NaN 2019-01-02 03:48:19          NaN   \n",
       "68555     18442   purchase            NaN 2019-01-02 23:26:26          NaN   \n",
       "68556     18443   purchase            NaN 2019-01-03 00:36:36          NaN   \n",
       "68557     18448   purchase            NaN 2019-01-04 12:51:41          NaN   \n",
       "68558     18452   purchase            NaN 2019-01-06 07:14:25          NaN   \n",
       "\n",
       "       user_id  amount tutorial_status  user_status  tutorial_start_count  \\\n",
       "68554    47498   100.0    tut_finished            1                   1.0   \n",
       "68555    47647   150.0    tut_finished            1                   1.0   \n",
       "68556    47554    50.0    tut_finished            1                   1.0   \n",
       "68557    47742    50.0    tut_finished            1                   1.0   \n",
       "68558    47732   150.0    tut_finished            1                   1.0   \n",
       "\n",
       "       tutorial_finish_count  \n",
       "68554                    1.0  \n",
       "68555                    1.0  \n",
       "68556                    1.0  \n",
       "68557                    1.0  \n",
       "68558                    1.0  "
      ]
     },
     "execution_count": 28,
     "metadata": {},
     "output_type": "execute_result"
    }
   ],
   "source": [
    "# создаем общий DataFrame с количеством начаты\\завершенных \n",
    "# обучений по каждому пользователю\n",
    "merged_df = df.merge(\n",
    "    tutorial_start_count, \n",
    "    on='user_id', \n",
    "    how='left'\n",
    ")\n",
    "merged_df = merged_df.merge(\n",
    "    tutorial_finish_count, \n",
    "    on='user_id', \n",
    "    how='left'\n",
    ")\n",
    "# заполняем пустые значения нулями. \n",
    "# это значит пользователь не проходил обучение\n",
    "merged_df['tutorial_start_count'] = merged_df['tutorial_start_count'].fillna(0)\n",
    "merged_df['tutorial_finish_count'] = merged_df['tutorial_finish_count'].fillna(0)\n",
    "\n",
    "merged_df.tail()"
   ]
  },
  {
   "cell_type": "code",
   "execution_count": 29,
   "metadata": {},
   "outputs": [
    {
     "data": {
      "text/plain": [
       "user_status  tutorial_start_count\n",
       "0            0.0                     8046\n",
       "             1.0                     7896\n",
       "             2.0                     1371\n",
       "             3.0                      376\n",
       "             4.0                      191\n",
       "             5.0                       93\n",
       "             6.0                      102\n",
       "             7.0                       82\n",
       "             8.0                       73\n",
       "             9.0                       96\n",
       "1            0.0                       22\n",
       "             1.0                     1207\n",
       "             2.0                      218\n",
       "             3.0                       51\n",
       "             4.0                       30\n",
       "             5.0                       16\n",
       "             6.0                       14\n",
       "             7.0                       12\n",
       "             8.0                       13\n",
       "             9.0                       17\n",
       "Name: user_id, dtype: int64"
      ]
     },
     "execution_count": 29,
     "metadata": {},
     "output_type": "execute_result"
    }
   ],
   "source": [
    "# определяем есть ли разница в количестве попыток начать обучение\n",
    "# у тех пользователей, которые оплатили и не оплатили вопросы\n",
    "tutorial_start_attemps = merged_df.groupby(\n",
    "    ['user_status', 'tutorial_start_count']\n",
    ")['user_id'].nunique()\n",
    "tutorial_start_attemps"
   ]
  },
  {
   "cell_type": "code",
   "execution_count": 30,
   "metadata": {},
   "outputs": [
    {
     "data": {
      "text/plain": [
       "user_status  tutorial_finish_count\n",
       "0            0.0                      9523\n",
       "             1.0                      6872\n",
       "             2.0                      1139\n",
       "             3.0                       301\n",
       "             4.0                       159\n",
       "             5.0                        98\n",
       "             6.0                        86\n",
       "             7.0                        82\n",
       "             8.0                        48\n",
       "             9.0                        18\n",
       "1            0.0                       153\n",
       "             1.0                      1143\n",
       "             2.0                       182\n",
       "             3.0                        44\n",
       "             4.0                        19\n",
       "             5.0                        19\n",
       "             6.0                        15\n",
       "             7.0                        15\n",
       "             8.0                         6\n",
       "             9.0                         4\n",
       "Name: user_id, dtype: int64"
      ]
     },
     "execution_count": 30,
     "metadata": {},
     "output_type": "execute_result"
    }
   ],
   "source": [
    "# определяем есть ли разница в количестве пройденных обучений у \n",
    "# тех пользователей, которые оплатили и не оплатили вопросы\n",
    "tutorial_finish_attemps = merged_df.groupby(\n",
    "    ['user_status', 'tutorial_finish_count']\n",
    ")['user_id'].nunique()\n",
    "tutorial_finish_attemps"
   ]
  },
  {
   "cell_type": "markdown",
   "metadata": {},
   "source": [
    "Пользователи по группам, оплативших и не оплативших вопросы, предприняли одинаковое количество начать/завершить обучение - от 1 до 9 попыток.\n",
    "Поэтому разделим всех пользователей по группам по количеству начатых/завершенных обучений."
   ]
  },
  {
   "cell_type": "code",
   "execution_count": 31,
   "metadata": {},
   "outputs": [
    {
     "data": {
      "text/html": [
       "<div>\n",
       "<style scoped>\n",
       "    .dataframe tbody tr th:only-of-type {\n",
       "        vertical-align: middle;\n",
       "    }\n",
       "\n",
       "    .dataframe tbody tr th {\n",
       "        vertical-align: top;\n",
       "    }\n",
       "\n",
       "    .dataframe thead th {\n",
       "        text-align: right;\n",
       "    }\n",
       "</style>\n",
       "<table border=\"1\" class=\"dataframe\">\n",
       "  <thead>\n",
       "    <tr style=\"text-align: right;\">\n",
       "      <th></th>\n",
       "      <th>tutorial_start_count</th>\n",
       "      <th>registration</th>\n",
       "      <th>tutorial_start</th>\n",
       "      <th>tutorial_finish</th>\n",
       "      <th>level_choice</th>\n",
       "      <th>pack_choice</th>\n",
       "      <th>purchase</th>\n",
       "      <th>conversion_rate</th>\n",
       "    </tr>\n",
       "  </thead>\n",
       "  <tbody>\n",
       "    <tr>\n",
       "      <th>0</th>\n",
       "      <td>0.0</td>\n",
       "      <td>8068</td>\n",
       "      <td>0</td>\n",
       "      <td>0</td>\n",
       "      <td>98</td>\n",
       "      <td>74</td>\n",
       "      <td>22</td>\n",
       "      <td>0.003</td>\n",
       "    </tr>\n",
       "    <tr>\n",
       "      <th>1</th>\n",
       "      <td>1.0</td>\n",
       "      <td>9103</td>\n",
       "      <td>9103</td>\n",
       "      <td>7548</td>\n",
       "      <td>6305</td>\n",
       "      <td>4349</td>\n",
       "      <td>1207</td>\n",
       "      <td>0.133</td>\n",
       "    </tr>\n",
       "    <tr>\n",
       "      <th>2</th>\n",
       "      <td>2.0</td>\n",
       "      <td>1589</td>\n",
       "      <td>1589</td>\n",
       "      <td>1538</td>\n",
       "      <td>1113</td>\n",
       "      <td>759</td>\n",
       "      <td>218</td>\n",
       "      <td>0.137</td>\n",
       "    </tr>\n",
       "    <tr>\n",
       "      <th>3</th>\n",
       "      <td>3.0</td>\n",
       "      <td>427</td>\n",
       "      <td>427</td>\n",
       "      <td>425</td>\n",
       "      <td>298</td>\n",
       "      <td>198</td>\n",
       "      <td>51</td>\n",
       "      <td>0.119</td>\n",
       "    </tr>\n",
       "    <tr>\n",
       "      <th>4</th>\n",
       "      <td>4.0</td>\n",
       "      <td>221</td>\n",
       "      <td>221</td>\n",
       "      <td>221</td>\n",
       "      <td>142</td>\n",
       "      <td>89</td>\n",
       "      <td>30</td>\n",
       "      <td>0.136</td>\n",
       "    </tr>\n",
       "    <tr>\n",
       "      <th>5</th>\n",
       "      <td>5.0</td>\n",
       "      <td>109</td>\n",
       "      <td>109</td>\n",
       "      <td>109</td>\n",
       "      <td>80</td>\n",
       "      <td>53</td>\n",
       "      <td>16</td>\n",
       "      <td>0.147</td>\n",
       "    </tr>\n",
       "    <tr>\n",
       "      <th>6</th>\n",
       "      <td>6.0</td>\n",
       "      <td>116</td>\n",
       "      <td>116</td>\n",
       "      <td>116</td>\n",
       "      <td>84</td>\n",
       "      <td>54</td>\n",
       "      <td>14</td>\n",
       "      <td>0.121</td>\n",
       "    </tr>\n",
       "    <tr>\n",
       "      <th>7</th>\n",
       "      <td>7.0</td>\n",
       "      <td>94</td>\n",
       "      <td>94</td>\n",
       "      <td>94</td>\n",
       "      <td>73</td>\n",
       "      <td>56</td>\n",
       "      <td>12</td>\n",
       "      <td>0.128</td>\n",
       "    </tr>\n",
       "    <tr>\n",
       "      <th>8</th>\n",
       "      <td>8.0</td>\n",
       "      <td>86</td>\n",
       "      <td>86</td>\n",
       "      <td>86</td>\n",
       "      <td>63</td>\n",
       "      <td>42</td>\n",
       "      <td>13</td>\n",
       "      <td>0.151</td>\n",
       "    </tr>\n",
       "    <tr>\n",
       "      <th>9</th>\n",
       "      <td>9.0</td>\n",
       "      <td>113</td>\n",
       "      <td>113</td>\n",
       "      <td>113</td>\n",
       "      <td>86</td>\n",
       "      <td>63</td>\n",
       "      <td>17</td>\n",
       "      <td>0.150</td>\n",
       "    </tr>\n",
       "  </tbody>\n",
       "</table>\n",
       "</div>"
      ],
      "text/plain": [
       "   tutorial_start_count  registration  tutorial_start  tutorial_finish  \\\n",
       "0                   0.0          8068               0                0   \n",
       "1                   1.0          9103            9103             7548   \n",
       "2                   2.0          1589            1589             1538   \n",
       "3                   3.0           427             427              425   \n",
       "4                   4.0           221             221              221   \n",
       "5                   5.0           109             109              109   \n",
       "6                   6.0           116             116              116   \n",
       "7                   7.0            94              94               94   \n",
       "8                   8.0            86              86               86   \n",
       "9                   9.0           113             113              113   \n",
       "\n",
       "   level_choice  pack_choice  purchase  conversion_rate  \n",
       "0            98           74        22            0.003  \n",
       "1          6305         4349      1207            0.133  \n",
       "2          1113          759       218            0.137  \n",
       "3           298          198        51            0.119  \n",
       "4           142           89        30            0.136  \n",
       "5            80           53        16            0.147  \n",
       "6            84           54        14            0.121  \n",
       "7            73           56        12            0.128  \n",
       "8            63           42        13            0.151  \n",
       "9            86           63        17            0.150  "
      ]
     },
     "execution_count": 31,
     "metadata": {},
     "output_type": "execute_result"
    }
   ],
   "source": [
    "# создаем сводную таблицу с группами по количеству \n",
    "# начатых обучений и конверсией по этапам приложения\n",
    "start_pivot = pd.pivot_table(\n",
    "    data=merged_df,\n",
    "    values=['user_id'],\n",
    "    columns=['event_type'],\n",
    "    index=['tutorial_start_count'],\n",
    "    aggfunc='nunique'\n",
    ")\n",
    "start_pivot.columns = list(\n",
    "    map(lambda x: x[-1], start_pivot)\n",
    ")\n",
    "start_pivot = start_pivot.reset_index()\n",
    "\n",
    "# создаем признак конверсии пользователей с этапа \n",
    "# регистрации на этап оплаты вопросов\n",
    "start_pivot['conversion_rate'] = round(\n",
    "    start_pivot['purchase'] / start_pivot['registration'], 3)\n",
    "start_pivot"
   ]
  },
  {
   "cell_type": "code",
   "execution_count": 32,
   "metadata": {},
   "outputs": [
    {
     "data": {
      "text/plain": [
       "count    10.000000\n",
       "mean      0.122500\n",
       "std       0.043457\n",
       "min       0.003000\n",
       "25%       0.122750\n",
       "50%       0.134500\n",
       "75%       0.144500\n",
       "max       0.151000\n",
       "Name: conversion_rate, dtype: float64"
      ]
     },
     "execution_count": 32,
     "metadata": {},
     "output_type": "execute_result"
    }
   ],
   "source": [
    "# выводим статистику по конверсии пользователей \n",
    "start_pivot['conversion_rate'].describe()"
   ]
  },
  {
   "cell_type": "code",
   "execution_count": 33,
   "metadata": {},
   "outputs": [
    {
     "data": {
      "application/vnd.plotly.v1+json": {
       "config": {
        "plotlyServerURL": "https://plot.ly"
       },
       "data": [
        {
         "hole": 0.8,
         "labels": [
          0,
          1,
          2,
          3,
          4,
          5,
          6,
          7,
          8,
          9
         ],
         "type": "pie",
         "values": [
          0.003,
          0.133,
          0.137,
          0.119,
          0.136,
          0.147,
          0.121,
          0.128,
          0.151,
          0.15
         ]
        }
       ],
       "layout": {
        "annotations": [
         {
          "font": {
           "size": 16
          },
          "showarrow": false,
          "text": "Пользователи,<br>оплатившие вопросы,<br>по количеству<br>начатых обучений",
          "x": 0.5,
          "y": 0.5
         }
        ],
        "template": {
         "data": {
          "bar": [
           {
            "error_x": {
             "color": "#2a3f5f"
            },
            "error_y": {
             "color": "#2a3f5f"
            },
            "marker": {
             "line": {
              "color": "#E5ECF6",
              "width": 0.5
             },
             "pattern": {
              "fillmode": "overlay",
              "size": 10,
              "solidity": 0.2
             }
            },
            "type": "bar"
           }
          ],
          "barpolar": [
           {
            "marker": {
             "line": {
              "color": "#E5ECF6",
              "width": 0.5
             },
             "pattern": {
              "fillmode": "overlay",
              "size": 10,
              "solidity": 0.2
             }
            },
            "type": "barpolar"
           }
          ],
          "carpet": [
           {
            "aaxis": {
             "endlinecolor": "#2a3f5f",
             "gridcolor": "white",
             "linecolor": "white",
             "minorgridcolor": "white",
             "startlinecolor": "#2a3f5f"
            },
            "baxis": {
             "endlinecolor": "#2a3f5f",
             "gridcolor": "white",
             "linecolor": "white",
             "minorgridcolor": "white",
             "startlinecolor": "#2a3f5f"
            },
            "type": "carpet"
           }
          ],
          "choropleth": [
           {
            "colorbar": {
             "outlinewidth": 0,
             "ticks": ""
            },
            "type": "choropleth"
           }
          ],
          "contour": [
           {
            "colorbar": {
             "outlinewidth": 0,
             "ticks": ""
            },
            "colorscale": [
             [
              0,
              "#0d0887"
             ],
             [
              0.1111111111111111,
              "#46039f"
             ],
             [
              0.2222222222222222,
              "#7201a8"
             ],
             [
              0.3333333333333333,
              "#9c179e"
             ],
             [
              0.4444444444444444,
              "#bd3786"
             ],
             [
              0.5555555555555556,
              "#d8576b"
             ],
             [
              0.6666666666666666,
              "#ed7953"
             ],
             [
              0.7777777777777778,
              "#fb9f3a"
             ],
             [
              0.8888888888888888,
              "#fdca26"
             ],
             [
              1,
              "#f0f921"
             ]
            ],
            "type": "contour"
           }
          ],
          "contourcarpet": [
           {
            "colorbar": {
             "outlinewidth": 0,
             "ticks": ""
            },
            "type": "contourcarpet"
           }
          ],
          "heatmap": [
           {
            "colorbar": {
             "outlinewidth": 0,
             "ticks": ""
            },
            "colorscale": [
             [
              0,
              "#0d0887"
             ],
             [
              0.1111111111111111,
              "#46039f"
             ],
             [
              0.2222222222222222,
              "#7201a8"
             ],
             [
              0.3333333333333333,
              "#9c179e"
             ],
             [
              0.4444444444444444,
              "#bd3786"
             ],
             [
              0.5555555555555556,
              "#d8576b"
             ],
             [
              0.6666666666666666,
              "#ed7953"
             ],
             [
              0.7777777777777778,
              "#fb9f3a"
             ],
             [
              0.8888888888888888,
              "#fdca26"
             ],
             [
              1,
              "#f0f921"
             ]
            ],
            "type": "heatmap"
           }
          ],
          "heatmapgl": [
           {
            "colorbar": {
             "outlinewidth": 0,
             "ticks": ""
            },
            "colorscale": [
             [
              0,
              "#0d0887"
             ],
             [
              0.1111111111111111,
              "#46039f"
             ],
             [
              0.2222222222222222,
              "#7201a8"
             ],
             [
              0.3333333333333333,
              "#9c179e"
             ],
             [
              0.4444444444444444,
              "#bd3786"
             ],
             [
              0.5555555555555556,
              "#d8576b"
             ],
             [
              0.6666666666666666,
              "#ed7953"
             ],
             [
              0.7777777777777778,
              "#fb9f3a"
             ],
             [
              0.8888888888888888,
              "#fdca26"
             ],
             [
              1,
              "#f0f921"
             ]
            ],
            "type": "heatmapgl"
           }
          ],
          "histogram": [
           {
            "marker": {
             "pattern": {
              "fillmode": "overlay",
              "size": 10,
              "solidity": 0.2
             }
            },
            "type": "histogram"
           }
          ],
          "histogram2d": [
           {
            "colorbar": {
             "outlinewidth": 0,
             "ticks": ""
            },
            "colorscale": [
             [
              0,
              "#0d0887"
             ],
             [
              0.1111111111111111,
              "#46039f"
             ],
             [
              0.2222222222222222,
              "#7201a8"
             ],
             [
              0.3333333333333333,
              "#9c179e"
             ],
             [
              0.4444444444444444,
              "#bd3786"
             ],
             [
              0.5555555555555556,
              "#d8576b"
             ],
             [
              0.6666666666666666,
              "#ed7953"
             ],
             [
              0.7777777777777778,
              "#fb9f3a"
             ],
             [
              0.8888888888888888,
              "#fdca26"
             ],
             [
              1,
              "#f0f921"
             ]
            ],
            "type": "histogram2d"
           }
          ],
          "histogram2dcontour": [
           {
            "colorbar": {
             "outlinewidth": 0,
             "ticks": ""
            },
            "colorscale": [
             [
              0,
              "#0d0887"
             ],
             [
              0.1111111111111111,
              "#46039f"
             ],
             [
              0.2222222222222222,
              "#7201a8"
             ],
             [
              0.3333333333333333,
              "#9c179e"
             ],
             [
              0.4444444444444444,
              "#bd3786"
             ],
             [
              0.5555555555555556,
              "#d8576b"
             ],
             [
              0.6666666666666666,
              "#ed7953"
             ],
             [
              0.7777777777777778,
              "#fb9f3a"
             ],
             [
              0.8888888888888888,
              "#fdca26"
             ],
             [
              1,
              "#f0f921"
             ]
            ],
            "type": "histogram2dcontour"
           }
          ],
          "mesh3d": [
           {
            "colorbar": {
             "outlinewidth": 0,
             "ticks": ""
            },
            "type": "mesh3d"
           }
          ],
          "parcoords": [
           {
            "line": {
             "colorbar": {
              "outlinewidth": 0,
              "ticks": ""
             }
            },
            "type": "parcoords"
           }
          ],
          "pie": [
           {
            "automargin": true,
            "type": "pie"
           }
          ],
          "scatter": [
           {
            "fillpattern": {
             "fillmode": "overlay",
             "size": 10,
             "solidity": 0.2
            },
            "type": "scatter"
           }
          ],
          "scatter3d": [
           {
            "line": {
             "colorbar": {
              "outlinewidth": 0,
              "ticks": ""
             }
            },
            "marker": {
             "colorbar": {
              "outlinewidth": 0,
              "ticks": ""
             }
            },
            "type": "scatter3d"
           }
          ],
          "scattercarpet": [
           {
            "marker": {
             "colorbar": {
              "outlinewidth": 0,
              "ticks": ""
             }
            },
            "type": "scattercarpet"
           }
          ],
          "scattergeo": [
           {
            "marker": {
             "colorbar": {
              "outlinewidth": 0,
              "ticks": ""
             }
            },
            "type": "scattergeo"
           }
          ],
          "scattergl": [
           {
            "marker": {
             "colorbar": {
              "outlinewidth": 0,
              "ticks": ""
             }
            },
            "type": "scattergl"
           }
          ],
          "scattermapbox": [
           {
            "marker": {
             "colorbar": {
              "outlinewidth": 0,
              "ticks": ""
             }
            },
            "type": "scattermapbox"
           }
          ],
          "scatterpolar": [
           {
            "marker": {
             "colorbar": {
              "outlinewidth": 0,
              "ticks": ""
             }
            },
            "type": "scatterpolar"
           }
          ],
          "scatterpolargl": [
           {
            "marker": {
             "colorbar": {
              "outlinewidth": 0,
              "ticks": ""
             }
            },
            "type": "scatterpolargl"
           }
          ],
          "scatterternary": [
           {
            "marker": {
             "colorbar": {
              "outlinewidth": 0,
              "ticks": ""
             }
            },
            "type": "scatterternary"
           }
          ],
          "surface": [
           {
            "colorbar": {
             "outlinewidth": 0,
             "ticks": ""
            },
            "colorscale": [
             [
              0,
              "#0d0887"
             ],
             [
              0.1111111111111111,
              "#46039f"
             ],
             [
              0.2222222222222222,
              "#7201a8"
             ],
             [
              0.3333333333333333,
              "#9c179e"
             ],
             [
              0.4444444444444444,
              "#bd3786"
             ],
             [
              0.5555555555555556,
              "#d8576b"
             ],
             [
              0.6666666666666666,
              "#ed7953"
             ],
             [
              0.7777777777777778,
              "#fb9f3a"
             ],
             [
              0.8888888888888888,
              "#fdca26"
             ],
             [
              1,
              "#f0f921"
             ]
            ],
            "type": "surface"
           }
          ],
          "table": [
           {
            "cells": {
             "fill": {
              "color": "#EBF0F8"
             },
             "line": {
              "color": "white"
             }
            },
            "header": {
             "fill": {
              "color": "#C8D4E3"
             },
             "line": {
              "color": "white"
             }
            },
            "type": "table"
           }
          ]
         },
         "layout": {
          "annotationdefaults": {
           "arrowcolor": "#2a3f5f",
           "arrowhead": 0,
           "arrowwidth": 1
          },
          "autotypenumbers": "strict",
          "coloraxis": {
           "colorbar": {
            "outlinewidth": 0,
            "ticks": ""
           }
          },
          "colorscale": {
           "diverging": [
            [
             0,
             "#8e0152"
            ],
            [
             0.1,
             "#c51b7d"
            ],
            [
             0.2,
             "#de77ae"
            ],
            [
             0.3,
             "#f1b6da"
            ],
            [
             0.4,
             "#fde0ef"
            ],
            [
             0.5,
             "#f7f7f7"
            ],
            [
             0.6,
             "#e6f5d0"
            ],
            [
             0.7,
             "#b8e186"
            ],
            [
             0.8,
             "#7fbc41"
            ],
            [
             0.9,
             "#4d9221"
            ],
            [
             1,
             "#276419"
            ]
           ],
           "sequential": [
            [
             0,
             "#0d0887"
            ],
            [
             0.1111111111111111,
             "#46039f"
            ],
            [
             0.2222222222222222,
             "#7201a8"
            ],
            [
             0.3333333333333333,
             "#9c179e"
            ],
            [
             0.4444444444444444,
             "#bd3786"
            ],
            [
             0.5555555555555556,
             "#d8576b"
            ],
            [
             0.6666666666666666,
             "#ed7953"
            ],
            [
             0.7777777777777778,
             "#fb9f3a"
            ],
            [
             0.8888888888888888,
             "#fdca26"
            ],
            [
             1,
             "#f0f921"
            ]
           ],
           "sequentialminus": [
            [
             0,
             "#0d0887"
            ],
            [
             0.1111111111111111,
             "#46039f"
            ],
            [
             0.2222222222222222,
             "#7201a8"
            ],
            [
             0.3333333333333333,
             "#9c179e"
            ],
            [
             0.4444444444444444,
             "#bd3786"
            ],
            [
             0.5555555555555556,
             "#d8576b"
            ],
            [
             0.6666666666666666,
             "#ed7953"
            ],
            [
             0.7777777777777778,
             "#fb9f3a"
            ],
            [
             0.8888888888888888,
             "#fdca26"
            ],
            [
             1,
             "#f0f921"
            ]
           ]
          },
          "colorway": [
           "#636efa",
           "#EF553B",
           "#00cc96",
           "#ab63fa",
           "#FFA15A",
           "#19d3f3",
           "#FF6692",
           "#B6E880",
           "#FF97FF",
           "#FECB52"
          ],
          "font": {
           "color": "#2a3f5f"
          },
          "geo": {
           "bgcolor": "white",
           "lakecolor": "white",
           "landcolor": "#E5ECF6",
           "showlakes": true,
           "showland": true,
           "subunitcolor": "white"
          },
          "hoverlabel": {
           "align": "left"
          },
          "hovermode": "closest",
          "mapbox": {
           "style": "light"
          },
          "paper_bgcolor": "white",
          "plot_bgcolor": "#E5ECF6",
          "polar": {
           "angularaxis": {
            "gridcolor": "white",
            "linecolor": "white",
            "ticks": ""
           },
           "bgcolor": "#E5ECF6",
           "radialaxis": {
            "gridcolor": "white",
            "linecolor": "white",
            "ticks": ""
           }
          },
          "scene": {
           "xaxis": {
            "backgroundcolor": "#E5ECF6",
            "gridcolor": "white",
            "gridwidth": 2,
            "linecolor": "white",
            "showbackground": true,
            "ticks": "",
            "zerolinecolor": "white"
           },
           "yaxis": {
            "backgroundcolor": "#E5ECF6",
            "gridcolor": "white",
            "gridwidth": 2,
            "linecolor": "white",
            "showbackground": true,
            "ticks": "",
            "zerolinecolor": "white"
           },
           "zaxis": {
            "backgroundcolor": "#E5ECF6",
            "gridcolor": "white",
            "gridwidth": 2,
            "linecolor": "white",
            "showbackground": true,
            "ticks": "",
            "zerolinecolor": "white"
           }
          },
          "shapedefaults": {
           "line": {
            "color": "#2a3f5f"
           }
          },
          "ternary": {
           "aaxis": {
            "gridcolor": "white",
            "linecolor": "white",
            "ticks": ""
           },
           "baxis": {
            "gridcolor": "white",
            "linecolor": "white",
            "ticks": ""
           },
           "bgcolor": "#E5ECF6",
           "caxis": {
            "gridcolor": "white",
            "linecolor": "white",
            "ticks": ""
           }
          },
          "title": {
           "x": 0.05
          },
          "xaxis": {
           "automargin": true,
           "gridcolor": "white",
           "linecolor": "white",
           "ticks": "",
           "title": {
            "standoff": 15
           },
           "zerolinecolor": "white",
           "zerolinewidth": 2
          },
          "yaxis": {
           "automargin": true,
           "gridcolor": "white",
           "linecolor": "white",
           "ticks": "",
           "title": {
            "standoff": 15
           },
           "zerolinecolor": "white",
           "zerolinewidth": 2
          }
         }
        }
       }
      }
     },
     "metadata": {},
     "output_type": "display_data"
    }
   ],
   "source": [
    "# своддим данные для круговой диаграммы\n",
    "pie_data = start_pivot[['tutorial_start_count', 'conversion_rate']]\n",
    "\n",
    "# создаем круговую диаграмму, оплативших вопросы пользователей, \n",
    "# по группам по количеству начатых обучений\n",
    "fig = go.Figure()\n",
    "fig.add_trace(go.Pie(values=pie_data['conversion_rate'], labels=pie_data['tutorial_start_count'], hole=0.8))\n",
    "\n",
    "fig.update_layout(\n",
    "    annotations=[dict(\n",
    "        text='Пользователи,<br>оплатившие вопросы,<br>по количеству<br>начатых обучений', \n",
    "        x=0.5, y=0.5, font_size=16, showarrow=False)]\n",
    ")\n",
    "\n",
    "fig.show()"
   ]
  },
  {
   "cell_type": "markdown",
   "metadata": {},
   "source": [
    "Анализ конверсии пользоватлей по группам по количеству начатых обучений показывает, что конверсия пользователей равномерна по группам. \n",
    "Медианный процент пользователей, которые дошли до последнего этапа - покупки, составляет 13,45%.\n",
    "\n",
    "Выпадом и минимальным значением является пользователи, котрые не начинали обучение. Среди них лишь 0,03% дошли до этапа оплаты."
   ]
  },
  {
   "cell_type": "code",
   "execution_count": 34,
   "metadata": {},
   "outputs": [
    {
     "data": {
      "text/html": [
       "<div>\n",
       "<style scoped>\n",
       "    .dataframe tbody tr th:only-of-type {\n",
       "        vertical-align: middle;\n",
       "    }\n",
       "\n",
       "    .dataframe tbody tr th {\n",
       "        vertical-align: top;\n",
       "    }\n",
       "\n",
       "    .dataframe thead th {\n",
       "        text-align: right;\n",
       "    }\n",
       "</style>\n",
       "<table border=\"1\" class=\"dataframe\">\n",
       "  <thead>\n",
       "    <tr style=\"text-align: right;\">\n",
       "      <th></th>\n",
       "      <th>tutorial_finish_count</th>\n",
       "      <th>registration</th>\n",
       "      <th>tutorial_start</th>\n",
       "      <th>tutorial_finish</th>\n",
       "      <th>level_choice</th>\n",
       "      <th>pack_choice</th>\n",
       "      <th>purchase</th>\n",
       "      <th>conversion_rate</th>\n",
       "    </tr>\n",
       "  </thead>\n",
       "  <tbody>\n",
       "    <tr>\n",
       "      <th>0</th>\n",
       "      <td>0.0</td>\n",
       "      <td>9676</td>\n",
       "      <td>1608</td>\n",
       "      <td>0</td>\n",
       "      <td>841</td>\n",
       "      <td>561</td>\n",
       "      <td>153</td>\n",
       "      <td>0.016</td>\n",
       "    </tr>\n",
       "    <tr>\n",
       "      <th>1</th>\n",
       "      <td>1.0</td>\n",
       "      <td>8015</td>\n",
       "      <td>8015</td>\n",
       "      <td>8015</td>\n",
       "      <td>5919</td>\n",
       "      <td>4102</td>\n",
       "      <td>1143</td>\n",
       "      <td>0.143</td>\n",
       "    </tr>\n",
       "    <tr>\n",
       "      <th>2</th>\n",
       "      <td>2.0</td>\n",
       "      <td>1321</td>\n",
       "      <td>1321</td>\n",
       "      <td>1321</td>\n",
       "      <td>933</td>\n",
       "      <td>644</td>\n",
       "      <td>182</td>\n",
       "      <td>0.138</td>\n",
       "    </tr>\n",
       "    <tr>\n",
       "      <th>3</th>\n",
       "      <td>3.0</td>\n",
       "      <td>345</td>\n",
       "      <td>345</td>\n",
       "      <td>345</td>\n",
       "      <td>235</td>\n",
       "      <td>152</td>\n",
       "      <td>44</td>\n",
       "      <td>0.128</td>\n",
       "    </tr>\n",
       "    <tr>\n",
       "      <th>4</th>\n",
       "      <td>4.0</td>\n",
       "      <td>178</td>\n",
       "      <td>178</td>\n",
       "      <td>178</td>\n",
       "      <td>121</td>\n",
       "      <td>70</td>\n",
       "      <td>19</td>\n",
       "      <td>0.107</td>\n",
       "    </tr>\n",
       "    <tr>\n",
       "      <th>5</th>\n",
       "      <td>5.0</td>\n",
       "      <td>117</td>\n",
       "      <td>117</td>\n",
       "      <td>117</td>\n",
       "      <td>87</td>\n",
       "      <td>62</td>\n",
       "      <td>19</td>\n",
       "      <td>0.162</td>\n",
       "    </tr>\n",
       "    <tr>\n",
       "      <th>6</th>\n",
       "      <td>6.0</td>\n",
       "      <td>101</td>\n",
       "      <td>101</td>\n",
       "      <td>101</td>\n",
       "      <td>74</td>\n",
       "      <td>49</td>\n",
       "      <td>15</td>\n",
       "      <td>0.149</td>\n",
       "    </tr>\n",
       "    <tr>\n",
       "      <th>7</th>\n",
       "      <td>7.0</td>\n",
       "      <td>97</td>\n",
       "      <td>97</td>\n",
       "      <td>97</td>\n",
       "      <td>76</td>\n",
       "      <td>56</td>\n",
       "      <td>15</td>\n",
       "      <td>0.155</td>\n",
       "    </tr>\n",
       "    <tr>\n",
       "      <th>8</th>\n",
       "      <td>8.0</td>\n",
       "      <td>54</td>\n",
       "      <td>54</td>\n",
       "      <td>54</td>\n",
       "      <td>40</td>\n",
       "      <td>28</td>\n",
       "      <td>6</td>\n",
       "      <td>0.111</td>\n",
       "    </tr>\n",
       "    <tr>\n",
       "      <th>9</th>\n",
       "      <td>9.0</td>\n",
       "      <td>22</td>\n",
       "      <td>22</td>\n",
       "      <td>22</td>\n",
       "      <td>16</td>\n",
       "      <td>13</td>\n",
       "      <td>4</td>\n",
       "      <td>0.182</td>\n",
       "    </tr>\n",
       "  </tbody>\n",
       "</table>\n",
       "</div>"
      ],
      "text/plain": [
       "   tutorial_finish_count  registration  tutorial_start  tutorial_finish  \\\n",
       "0                    0.0          9676            1608                0   \n",
       "1                    1.0          8015            8015             8015   \n",
       "2                    2.0          1321            1321             1321   \n",
       "3                    3.0           345             345              345   \n",
       "4                    4.0           178             178              178   \n",
       "5                    5.0           117             117              117   \n",
       "6                    6.0           101             101              101   \n",
       "7                    7.0            97              97               97   \n",
       "8                    8.0            54              54               54   \n",
       "9                    9.0            22              22               22   \n",
       "\n",
       "   level_choice  pack_choice  purchase  conversion_rate  \n",
       "0           841          561       153            0.016  \n",
       "1          5919         4102      1143            0.143  \n",
       "2           933          644       182            0.138  \n",
       "3           235          152        44            0.128  \n",
       "4           121           70        19            0.107  \n",
       "5            87           62        19            0.162  \n",
       "6            74           49        15            0.149  \n",
       "7            76           56        15            0.155  \n",
       "8            40           28         6            0.111  \n",
       "9            16           13         4            0.182  "
      ]
     },
     "execution_count": 34,
     "metadata": {},
     "output_type": "execute_result"
    }
   ],
   "source": [
    "# создаем сводную таблицу с данными о пользователях по группам по \n",
    "# количеству завершенных обучений и их прохождении этапов приложения\n",
    "finish_pivot = pd.pivot_table(\n",
    "    data=merged_df,\n",
    "    values=['user_id'],\n",
    "    columns=['event_type'],\n",
    "    index=['tutorial_finish_count'],\n",
    "    aggfunc='nunique'\n",
    ")\n",
    "finish_pivot.columns = list(\n",
    "    map(lambda x: x[-1], finish_pivot)\n",
    ")\n",
    "finish_pivot = finish_pivot.reset_index()\n",
    "\n",
    "# создаем признак конверсии пользователей по группам по количеству \n",
    "# завершенных обучений с этапа регистрации на этап оплаты вопросов\n",
    "finish_pivot['conversion_rate'] = round(\n",
    "    finish_pivot['purchase'] / finish_pivot['registration'], 3)\n",
    "finish_pivot"
   ]
  },
  {
   "cell_type": "code",
   "execution_count": 35,
   "metadata": {},
   "outputs": [
    {
     "data": {
      "text/plain": [
       "count    10.000000\n",
       "mean      0.129100\n",
       "std       0.045739\n",
       "min       0.016000\n",
       "25%       0.115250\n",
       "50%       0.140500\n",
       "75%       0.153500\n",
       "max       0.182000\n",
       "Name: conversion_rate, dtype: float64"
      ]
     },
     "execution_count": 35,
     "metadata": {},
     "output_type": "execute_result"
    }
   ],
   "source": [
    "# выводим статистику конверсии\n",
    "finish_pivot['conversion_rate'].describe()"
   ]
  },
  {
   "cell_type": "code",
   "execution_count": 36,
   "metadata": {},
   "outputs": [
    {
     "data": {
      "application/vnd.plotly.v1+json": {
       "config": {
        "plotlyServerURL": "https://plot.ly"
       },
       "data": [
        {
         "hole": 0.8,
         "labels": [
          0,
          1,
          2,
          3,
          4,
          5,
          6,
          7,
          8,
          9
         ],
         "type": "pie",
         "values": [
          0.016,
          0.143,
          0.138,
          0.128,
          0.107,
          0.162,
          0.149,
          0.155,
          0.111,
          0.182
         ]
        }
       ],
       "layout": {
        "annotations": [
         {
          "font": {
           "size": 16
          },
          "showarrow": false,
          "text": "Пользователи,<br>оплатившие вопросы,<br>по количеству<br>завершенных обучений",
          "x": 0.5,
          "y": 0.5
         }
        ],
        "template": {
         "data": {
          "bar": [
           {
            "error_x": {
             "color": "#2a3f5f"
            },
            "error_y": {
             "color": "#2a3f5f"
            },
            "marker": {
             "line": {
              "color": "#E5ECF6",
              "width": 0.5
             },
             "pattern": {
              "fillmode": "overlay",
              "size": 10,
              "solidity": 0.2
             }
            },
            "type": "bar"
           }
          ],
          "barpolar": [
           {
            "marker": {
             "line": {
              "color": "#E5ECF6",
              "width": 0.5
             },
             "pattern": {
              "fillmode": "overlay",
              "size": 10,
              "solidity": 0.2
             }
            },
            "type": "barpolar"
           }
          ],
          "carpet": [
           {
            "aaxis": {
             "endlinecolor": "#2a3f5f",
             "gridcolor": "white",
             "linecolor": "white",
             "minorgridcolor": "white",
             "startlinecolor": "#2a3f5f"
            },
            "baxis": {
             "endlinecolor": "#2a3f5f",
             "gridcolor": "white",
             "linecolor": "white",
             "minorgridcolor": "white",
             "startlinecolor": "#2a3f5f"
            },
            "type": "carpet"
           }
          ],
          "choropleth": [
           {
            "colorbar": {
             "outlinewidth": 0,
             "ticks": ""
            },
            "type": "choropleth"
           }
          ],
          "contour": [
           {
            "colorbar": {
             "outlinewidth": 0,
             "ticks": ""
            },
            "colorscale": [
             [
              0,
              "#0d0887"
             ],
             [
              0.1111111111111111,
              "#46039f"
             ],
             [
              0.2222222222222222,
              "#7201a8"
             ],
             [
              0.3333333333333333,
              "#9c179e"
             ],
             [
              0.4444444444444444,
              "#bd3786"
             ],
             [
              0.5555555555555556,
              "#d8576b"
             ],
             [
              0.6666666666666666,
              "#ed7953"
             ],
             [
              0.7777777777777778,
              "#fb9f3a"
             ],
             [
              0.8888888888888888,
              "#fdca26"
             ],
             [
              1,
              "#f0f921"
             ]
            ],
            "type": "contour"
           }
          ],
          "contourcarpet": [
           {
            "colorbar": {
             "outlinewidth": 0,
             "ticks": ""
            },
            "type": "contourcarpet"
           }
          ],
          "heatmap": [
           {
            "colorbar": {
             "outlinewidth": 0,
             "ticks": ""
            },
            "colorscale": [
             [
              0,
              "#0d0887"
             ],
             [
              0.1111111111111111,
              "#46039f"
             ],
             [
              0.2222222222222222,
              "#7201a8"
             ],
             [
              0.3333333333333333,
              "#9c179e"
             ],
             [
              0.4444444444444444,
              "#bd3786"
             ],
             [
              0.5555555555555556,
              "#d8576b"
             ],
             [
              0.6666666666666666,
              "#ed7953"
             ],
             [
              0.7777777777777778,
              "#fb9f3a"
             ],
             [
              0.8888888888888888,
              "#fdca26"
             ],
             [
              1,
              "#f0f921"
             ]
            ],
            "type": "heatmap"
           }
          ],
          "heatmapgl": [
           {
            "colorbar": {
             "outlinewidth": 0,
             "ticks": ""
            },
            "colorscale": [
             [
              0,
              "#0d0887"
             ],
             [
              0.1111111111111111,
              "#46039f"
             ],
             [
              0.2222222222222222,
              "#7201a8"
             ],
             [
              0.3333333333333333,
              "#9c179e"
             ],
             [
              0.4444444444444444,
              "#bd3786"
             ],
             [
              0.5555555555555556,
              "#d8576b"
             ],
             [
              0.6666666666666666,
              "#ed7953"
             ],
             [
              0.7777777777777778,
              "#fb9f3a"
             ],
             [
              0.8888888888888888,
              "#fdca26"
             ],
             [
              1,
              "#f0f921"
             ]
            ],
            "type": "heatmapgl"
           }
          ],
          "histogram": [
           {
            "marker": {
             "pattern": {
              "fillmode": "overlay",
              "size": 10,
              "solidity": 0.2
             }
            },
            "type": "histogram"
           }
          ],
          "histogram2d": [
           {
            "colorbar": {
             "outlinewidth": 0,
             "ticks": ""
            },
            "colorscale": [
             [
              0,
              "#0d0887"
             ],
             [
              0.1111111111111111,
              "#46039f"
             ],
             [
              0.2222222222222222,
              "#7201a8"
             ],
             [
              0.3333333333333333,
              "#9c179e"
             ],
             [
              0.4444444444444444,
              "#bd3786"
             ],
             [
              0.5555555555555556,
              "#d8576b"
             ],
             [
              0.6666666666666666,
              "#ed7953"
             ],
             [
              0.7777777777777778,
              "#fb9f3a"
             ],
             [
              0.8888888888888888,
              "#fdca26"
             ],
             [
              1,
              "#f0f921"
             ]
            ],
            "type": "histogram2d"
           }
          ],
          "histogram2dcontour": [
           {
            "colorbar": {
             "outlinewidth": 0,
             "ticks": ""
            },
            "colorscale": [
             [
              0,
              "#0d0887"
             ],
             [
              0.1111111111111111,
              "#46039f"
             ],
             [
              0.2222222222222222,
              "#7201a8"
             ],
             [
              0.3333333333333333,
              "#9c179e"
             ],
             [
              0.4444444444444444,
              "#bd3786"
             ],
             [
              0.5555555555555556,
              "#d8576b"
             ],
             [
              0.6666666666666666,
              "#ed7953"
             ],
             [
              0.7777777777777778,
              "#fb9f3a"
             ],
             [
              0.8888888888888888,
              "#fdca26"
             ],
             [
              1,
              "#f0f921"
             ]
            ],
            "type": "histogram2dcontour"
           }
          ],
          "mesh3d": [
           {
            "colorbar": {
             "outlinewidth": 0,
             "ticks": ""
            },
            "type": "mesh3d"
           }
          ],
          "parcoords": [
           {
            "line": {
             "colorbar": {
              "outlinewidth": 0,
              "ticks": ""
             }
            },
            "type": "parcoords"
           }
          ],
          "pie": [
           {
            "automargin": true,
            "type": "pie"
           }
          ],
          "scatter": [
           {
            "fillpattern": {
             "fillmode": "overlay",
             "size": 10,
             "solidity": 0.2
            },
            "type": "scatter"
           }
          ],
          "scatter3d": [
           {
            "line": {
             "colorbar": {
              "outlinewidth": 0,
              "ticks": ""
             }
            },
            "marker": {
             "colorbar": {
              "outlinewidth": 0,
              "ticks": ""
             }
            },
            "type": "scatter3d"
           }
          ],
          "scattercarpet": [
           {
            "marker": {
             "colorbar": {
              "outlinewidth": 0,
              "ticks": ""
             }
            },
            "type": "scattercarpet"
           }
          ],
          "scattergeo": [
           {
            "marker": {
             "colorbar": {
              "outlinewidth": 0,
              "ticks": ""
             }
            },
            "type": "scattergeo"
           }
          ],
          "scattergl": [
           {
            "marker": {
             "colorbar": {
              "outlinewidth": 0,
              "ticks": ""
             }
            },
            "type": "scattergl"
           }
          ],
          "scattermapbox": [
           {
            "marker": {
             "colorbar": {
              "outlinewidth": 0,
              "ticks": ""
             }
            },
            "type": "scattermapbox"
           }
          ],
          "scatterpolar": [
           {
            "marker": {
             "colorbar": {
              "outlinewidth": 0,
              "ticks": ""
             }
            },
            "type": "scatterpolar"
           }
          ],
          "scatterpolargl": [
           {
            "marker": {
             "colorbar": {
              "outlinewidth": 0,
              "ticks": ""
             }
            },
            "type": "scatterpolargl"
           }
          ],
          "scatterternary": [
           {
            "marker": {
             "colorbar": {
              "outlinewidth": 0,
              "ticks": ""
             }
            },
            "type": "scatterternary"
           }
          ],
          "surface": [
           {
            "colorbar": {
             "outlinewidth": 0,
             "ticks": ""
            },
            "colorscale": [
             [
              0,
              "#0d0887"
             ],
             [
              0.1111111111111111,
              "#46039f"
             ],
             [
              0.2222222222222222,
              "#7201a8"
             ],
             [
              0.3333333333333333,
              "#9c179e"
             ],
             [
              0.4444444444444444,
              "#bd3786"
             ],
             [
              0.5555555555555556,
              "#d8576b"
             ],
             [
              0.6666666666666666,
              "#ed7953"
             ],
             [
              0.7777777777777778,
              "#fb9f3a"
             ],
             [
              0.8888888888888888,
              "#fdca26"
             ],
             [
              1,
              "#f0f921"
             ]
            ],
            "type": "surface"
           }
          ],
          "table": [
           {
            "cells": {
             "fill": {
              "color": "#EBF0F8"
             },
             "line": {
              "color": "white"
             }
            },
            "header": {
             "fill": {
              "color": "#C8D4E3"
             },
             "line": {
              "color": "white"
             }
            },
            "type": "table"
           }
          ]
         },
         "layout": {
          "annotationdefaults": {
           "arrowcolor": "#2a3f5f",
           "arrowhead": 0,
           "arrowwidth": 1
          },
          "autotypenumbers": "strict",
          "coloraxis": {
           "colorbar": {
            "outlinewidth": 0,
            "ticks": ""
           }
          },
          "colorscale": {
           "diverging": [
            [
             0,
             "#8e0152"
            ],
            [
             0.1,
             "#c51b7d"
            ],
            [
             0.2,
             "#de77ae"
            ],
            [
             0.3,
             "#f1b6da"
            ],
            [
             0.4,
             "#fde0ef"
            ],
            [
             0.5,
             "#f7f7f7"
            ],
            [
             0.6,
             "#e6f5d0"
            ],
            [
             0.7,
             "#b8e186"
            ],
            [
             0.8,
             "#7fbc41"
            ],
            [
             0.9,
             "#4d9221"
            ],
            [
             1,
             "#276419"
            ]
           ],
           "sequential": [
            [
             0,
             "#0d0887"
            ],
            [
             0.1111111111111111,
             "#46039f"
            ],
            [
             0.2222222222222222,
             "#7201a8"
            ],
            [
             0.3333333333333333,
             "#9c179e"
            ],
            [
             0.4444444444444444,
             "#bd3786"
            ],
            [
             0.5555555555555556,
             "#d8576b"
            ],
            [
             0.6666666666666666,
             "#ed7953"
            ],
            [
             0.7777777777777778,
             "#fb9f3a"
            ],
            [
             0.8888888888888888,
             "#fdca26"
            ],
            [
             1,
             "#f0f921"
            ]
           ],
           "sequentialminus": [
            [
             0,
             "#0d0887"
            ],
            [
             0.1111111111111111,
             "#46039f"
            ],
            [
             0.2222222222222222,
             "#7201a8"
            ],
            [
             0.3333333333333333,
             "#9c179e"
            ],
            [
             0.4444444444444444,
             "#bd3786"
            ],
            [
             0.5555555555555556,
             "#d8576b"
            ],
            [
             0.6666666666666666,
             "#ed7953"
            ],
            [
             0.7777777777777778,
             "#fb9f3a"
            ],
            [
             0.8888888888888888,
             "#fdca26"
            ],
            [
             1,
             "#f0f921"
            ]
           ]
          },
          "colorway": [
           "#636efa",
           "#EF553B",
           "#00cc96",
           "#ab63fa",
           "#FFA15A",
           "#19d3f3",
           "#FF6692",
           "#B6E880",
           "#FF97FF",
           "#FECB52"
          ],
          "font": {
           "color": "#2a3f5f"
          },
          "geo": {
           "bgcolor": "white",
           "lakecolor": "white",
           "landcolor": "#E5ECF6",
           "showlakes": true,
           "showland": true,
           "subunitcolor": "white"
          },
          "hoverlabel": {
           "align": "left"
          },
          "hovermode": "closest",
          "mapbox": {
           "style": "light"
          },
          "paper_bgcolor": "white",
          "plot_bgcolor": "#E5ECF6",
          "polar": {
           "angularaxis": {
            "gridcolor": "white",
            "linecolor": "white",
            "ticks": ""
           },
           "bgcolor": "#E5ECF6",
           "radialaxis": {
            "gridcolor": "white",
            "linecolor": "white",
            "ticks": ""
           }
          },
          "scene": {
           "xaxis": {
            "backgroundcolor": "#E5ECF6",
            "gridcolor": "white",
            "gridwidth": 2,
            "linecolor": "white",
            "showbackground": true,
            "ticks": "",
            "zerolinecolor": "white"
           },
           "yaxis": {
            "backgroundcolor": "#E5ECF6",
            "gridcolor": "white",
            "gridwidth": 2,
            "linecolor": "white",
            "showbackground": true,
            "ticks": "",
            "zerolinecolor": "white"
           },
           "zaxis": {
            "backgroundcolor": "#E5ECF6",
            "gridcolor": "white",
            "gridwidth": 2,
            "linecolor": "white",
            "showbackground": true,
            "ticks": "",
            "zerolinecolor": "white"
           }
          },
          "shapedefaults": {
           "line": {
            "color": "#2a3f5f"
           }
          },
          "ternary": {
           "aaxis": {
            "gridcolor": "white",
            "linecolor": "white",
            "ticks": ""
           },
           "baxis": {
            "gridcolor": "white",
            "linecolor": "white",
            "ticks": ""
           },
           "bgcolor": "#E5ECF6",
           "caxis": {
            "gridcolor": "white",
            "linecolor": "white",
            "ticks": ""
           }
          },
          "title": {
           "x": 0.05
          },
          "xaxis": {
           "automargin": true,
           "gridcolor": "white",
           "linecolor": "white",
           "ticks": "",
           "title": {
            "standoff": 15
           },
           "zerolinecolor": "white",
           "zerolinewidth": 2
          },
          "yaxis": {
           "automargin": true,
           "gridcolor": "white",
           "linecolor": "white",
           "ticks": "",
           "title": {
            "standoff": 15
           },
           "zerolinecolor": "white",
           "zerolinewidth": 2
          }
         }
        }
       }
      }
     },
     "metadata": {},
     "output_type": "display_data"
    }
   ],
   "source": [
    "# сводим данные для построения круговой диаграммы\n",
    "pie_data_2 = finish_pivot[['tutorial_finish_count', 'conversion_rate']]\n",
    "\n",
    "# создаем круговую даиграмму с пользователями, оплатившими вопросы, \n",
    "# по группам по количеству завершенных обучений\n",
    "fig = go.Figure()\n",
    "fig.add_trace(go.Pie(values=pie_data_2['conversion_rate'], labels=pie_data_2['tutorial_finish_count'], hole=0.8))\n",
    "\n",
    "fig.update_layout(\n",
    "    annotations=[dict(\n",
    "        text='Пользователи,<br>оплатившие вопросы,<br>по количеству<br>завершенных обучений', \n",
    "        x=0.5, y=0.5, font_size=16, showarrow=False)]\n",
    ")\n",
    "\n",
    "fig.show()"
   ]
  },
  {
   "cell_type": "markdown",
   "metadata": {},
   "source": [
    "Конверсия пользователей по группам по количеству завершенных обучений также довольно равномерна. \n",
    "Медианный процент пользователей, котрые дошли до этапа оплаты, по группам - 14,05%. Что выше, меддианного значения конверсии пользователей по группам по количеству начатых обучений. Что говорит о том, что именно успешное обучение больше влияет на вероятность оплаты.\n",
    "\n",
    "Также выпадом является процент пользователей, которые оплатили вопросы, но не проходили обучение - 1,6%. "
   ]
  },
  {
   "cell_type": "markdown",
   "metadata": {
    "id": "ycDNgfXWeEvU"
   },
   "source": [
    "## Выводы по Гипотезе 2\n",
    "\n",
    "Анализ прохождения пользователями по группам по количеству начатых/завершенных обучений показывает, что конверсия пользователей начинавших и завершившивших обучение в общем равномерна. Медианное значение пользователей, которые доходят до этапа покупки платных вопросов, составляет 13,45% по группам по количеству начатах обучений и 14,05% по группам по количеству завершенных обучений. Процент пользователей, которые завершили обучение, больше. Что говорит о том, что успешное обучение само по себе влияет на вероятность покупки пользователем платных вопросов не зависимо от количества пройденных обучений и каким этапом по порядку было обучение. \n",
    "\n",
    "Таким образом, при том что лишь 8% пользователей совершают покупку вопросов, необходимо рассмотреть варианты вовлечения пользователей в прохождение обучения."
   ]
  },
  {
   "cell_type": "markdown",
   "metadata": {
    "id": "zci7AOUweEvU"
   },
   "source": [
    "# Проверка Гипотезы 3"
   ]
  },
  {
   "cell_type": "markdown",
   "metadata": {
    "id": "bm1jVccgeEvV"
   },
   "source": [
    "## 3.1 Для проверки Гипотезы о том, что проходят ли пользователи обучение после выборы уровня сложности, определим пользователей, время начала обучения которых наступило после выбора уровня сложности, и рассмотрим их пути прохождения приложения"
   ]
  },
  {
   "cell_type": "code",
   "execution_count": 37,
   "metadata": {},
   "outputs": [
    {
     "data": {
      "text/html": [
       "<div>\n",
       "<style scoped>\n",
       "    .dataframe tbody tr th:only-of-type {\n",
       "        vertical-align: middle;\n",
       "    }\n",
       "\n",
       "    .dataframe tbody tr th {\n",
       "        vertical-align: top;\n",
       "    }\n",
       "\n",
       "    .dataframe thead th {\n",
       "        text-align: right;\n",
       "    }\n",
       "</style>\n",
       "<table border=\"1\" class=\"dataframe\">\n",
       "  <thead>\n",
       "    <tr style=\"text-align: right;\">\n",
       "      <th></th>\n",
       "      <th>user_id</th>\n",
       "      <th>registration</th>\n",
       "      <th>tutorial_start</th>\n",
       "      <th>tutorial_finish</th>\n",
       "      <th>level_choice</th>\n",
       "      <th>pack_choice</th>\n",
       "      <th>purchase</th>\n",
       "    </tr>\n",
       "  </thead>\n",
       "  <tbody>\n",
       "    <tr>\n",
       "      <th>0</th>\n",
       "      <td>27832</td>\n",
       "      <td>2018-01-01 03:48:40</td>\n",
       "      <td>NaT</td>\n",
       "      <td>NaT</td>\n",
       "      <td>NaT</td>\n",
       "      <td>NaT</td>\n",
       "      <td>NaT</td>\n",
       "    </tr>\n",
       "    <tr>\n",
       "      <th>1</th>\n",
       "      <td>27833</td>\n",
       "      <td>2018-01-01 04:07:25</td>\n",
       "      <td>2018-01-01 17:47:40</td>\n",
       "      <td>2018-01-01 17:50:08</td>\n",
       "      <td>NaT</td>\n",
       "      <td>NaT</td>\n",
       "      <td>NaT</td>\n",
       "    </tr>\n",
       "    <tr>\n",
       "      <th>2</th>\n",
       "      <td>27834</td>\n",
       "      <td>2018-01-01 08:35:10</td>\n",
       "      <td>2018-01-01 19:46:11</td>\n",
       "      <td>2018-01-01 19:48:01</td>\n",
       "      <td>NaT</td>\n",
       "      <td>NaT</td>\n",
       "      <td>NaT</td>\n",
       "    </tr>\n",
       "    <tr>\n",
       "      <th>3</th>\n",
       "      <td>27835</td>\n",
       "      <td>2018-01-01 11:54:47</td>\n",
       "      <td>2018-01-01 15:00:51</td>\n",
       "      <td>2018-01-01 15:06:15</td>\n",
       "      <td>2018-01-01 20:37:22</td>\n",
       "      <td>2018-01-01 20:38:43</td>\n",
       "      <td>NaT</td>\n",
       "    </tr>\n",
       "    <tr>\n",
       "      <th>4</th>\n",
       "      <td>27836</td>\n",
       "      <td>2018-01-01 13:28:07</td>\n",
       "      <td>2018-01-01 15:40:43</td>\n",
       "      <td>2018-01-01 15:42:58</td>\n",
       "      <td>NaT</td>\n",
       "      <td>NaT</td>\n",
       "      <td>NaT</td>\n",
       "    </tr>\n",
       "  </tbody>\n",
       "</table>\n",
       "</div>"
      ],
      "text/plain": [
       "   user_id        registration      tutorial_start     tutorial_finish  \\\n",
       "0    27832 2018-01-01 03:48:40                 NaT                 NaT   \n",
       "1    27833 2018-01-01 04:07:25 2018-01-01 17:47:40 2018-01-01 17:50:08   \n",
       "2    27834 2018-01-01 08:35:10 2018-01-01 19:46:11 2018-01-01 19:48:01   \n",
       "3    27835 2018-01-01 11:54:47 2018-01-01 15:00:51 2018-01-01 15:06:15   \n",
       "4    27836 2018-01-01 13:28:07 2018-01-01 15:40:43 2018-01-01 15:42:58   \n",
       "\n",
       "         level_choice         pack_choice purchase  \n",
       "0                 NaT                 NaT      NaT  \n",
       "1                 NaT                 NaT      NaT  \n",
       "2                 NaT                 NaT      NaT  \n",
       "3 2018-01-01 20:37:22 2018-01-01 20:38:43      NaT  \n",
       "4                 NaT                 NaT      NaT  "
      ]
     },
     "execution_count": 37,
     "metadata": {},
     "output_type": "execute_result"
    }
   ],
   "source": [
    "# создаем сводную таблицу со временем, когда\n",
    "# пользователи в последний раз проходили этапы приложения\n",
    "time_pivot_2 = df.pivot_table(\n",
    "    values=['start_time'],\n",
    "    index=['user_id'],\n",
    "    columns=['event_type'],\n",
    "    aggfunc='max'\n",
    ")\n",
    "time_pivot_2.columns = list(\n",
    "    map(lambda x: x[-1], time_pivot_2)\n",
    ")\n",
    "time_pivot_2 = time_pivot_2.reset_index()\n",
    "\n",
    "time_pivot_2.head()"
   ]
  },
  {
   "cell_type": "code",
   "execution_count": 38,
   "metadata": {},
   "outputs": [
    {
     "name": "stdout",
     "output_type": "stream",
     "text": [
      "Количество пользователей, которые вернулись к этапу обучения после этапа выбора уровня сложности: 1386\n",
      "Процент пользователей, котрые вернулись к этапу обучения после этапа выбора уровня сложности, от общего числа пользователей: 6.96%\n"
     ]
    }
   ],
   "source": [
    "# создаем признак разницы времени между этапами выбора\n",
    "# уровня сложности и началом обучения\n",
    "time_pivot_2['lvl_tutorial_timedelta'] = time_pivot_2['tutorial_start'] - time_pivot_2['level_choice']\n",
    "# положительная разница говорит о том, \n",
    "# что пользователи вернулись к этапу обучения после\n",
    "# выбора уровня сложности\n",
    "tutorial_after_lvl_choice_users_list = time_pivot_2[\n",
    "    time_pivot_2['lvl_tutorial_timedelta'] > pd.to_timedelta(0)\n",
    "]['user_id'].unique()\n",
    "\n",
    "print('Количество пользователей, \\\n",
    "которые вернулись к этапу обучения после этапа выбора уровня сложности\\\n",
    ":', len(tutorial_after_lvl_choice_users_list)\n",
    ")\n",
    "\n",
    "print('Процент пользователей, \\\n",
    "котрые вернулись к этапу обучения после этапа выбора уровня сложности, \\\n",
    "от общего числа пользователей: {:.2%}'.format(\n",
    "    len(tutorial_after_lvl_choice_users_list)/all_users_cnt)\n",
    ")"
   ]
  },
  {
   "cell_type": "markdown",
   "metadata": {},
   "source": [
    "Примерно 7% пользователей вернулись к этапу начала обучения после выбора уровня сложности. Можно предположить, что этим пользователям не понятно как взаимодествовать с приложением Quiz Freeze."
   ]
  },
  {
   "cell_type": "code",
   "execution_count": 39,
   "metadata": {
    "id": "aUthHPhjeEvV"
   },
   "outputs": [
    {
     "data": {
      "text/plain": [
       "event_path\n",
       "registration > tutorial_start > tutorial_finish > level_choice > pack_choice > tutorial_start > tutorial_finish               236\n",
       "registration > tutorial_start > tutorial_finish > level_choice > tutorial_start > tutorial_finish                             169\n",
       "registration > tutorial_start > tutorial_finish > level_choice > pack_choice > tutorial_start > tutorial_finish > purchase    101\n",
       "registration > tutorial_start > tutorial_finish > level_choice > pack_choice > tutorial_start                                  53\n",
       "registration > tutorial_start > tutorial_finish > level_choice > tutorial_start                                                39\n",
       "Name: user_id, dtype: int64"
      ]
     },
     "execution_count": 39,
     "metadata": {},
     "output_type": "execute_result"
    }
   ],
   "source": [
    "# создаем DataFrame с данными о пользователях\n",
    "# и их путях прохождения этапов приложения\n",
    "user_path_df = (\n",
    "    df.groupby(\n",
    "        ['user_id']\n",
    "    )['event_type'].apply(list).reset_index()\n",
    ")\n",
    "# создаем новый признак, \n",
    "# в котором преобразуем путь\n",
    "user_path_df['event_path'] = user_path_df['event_type'].apply(lambda x: ' > '.join(x))\n",
    "tutorial_after_lvl_choice_paths_df = user_path_df[user_path_df['user_id'].isin(tutorial_after_lvl_choice_users_list)]\n",
    "# определяем уникальные пути прохождения \n",
    "# этапов приложения и количество пользователей пути прошедшие\n",
    "tutorial_after_lvl_choice_paths = (\n",
    "    tutorial_after_lvl_choice_paths_df.groupby(\n",
    "        ['event_path'])['user_id'].nunique().sort_values(ascending=False)\n",
    ")\n",
    "tutorial_after_lvl_choice_paths.nlargest()"
   ]
  },
  {
   "cell_type": "code",
   "execution_count": 40,
   "metadata": {},
   "outputs": [
    {
     "name": "stdout",
     "output_type": "stream",
     "text": [
      "Количество пользователей, которые приступили к выбору сложности сразу после регистрации, среди тех кто проходил обучение после выбора уровня сложност: 0\n"
     ]
    }
   ],
   "source": [
    "lvl_choice_after_registration_paths = tutorial_after_lvl_choice_paths[\n",
    "    tutorial_after_lvl_choice_paths.index.str.contains('registration > level_choice')\n",
    "]\n",
    "print('Количество пользователей, которые приступили к выбору сложности \\\n",
    "сразу после регистрации, среди тех кто проходил обучение после выбора \\\n",
    "уровня сложност:', lvl_choice_after_registration_paths.shape[0])"
   ]
  },
  {
   "cell_type": "markdown",
   "metadata": {},
   "source": [
    "Среди пользователей, которые начинали обучение после выбора уровня сложности, нет пользователей, которые приступили к выбору уровня сразу после регистрации. Значит пользователя понятно, что за этапом регистрации идет этап начала обучения.\n",
    "Таким образом, те кто начал обучение после выбора уровня сложности, вернулись к началу обучения повторно. Т.е. эти пользователи либо уже наачинали обучение, либо его закончили."
   ]
  },
  {
   "cell_type": "code",
   "execution_count": 41,
   "metadata": {},
   "outputs": [
    {
     "name": "stdout",
     "output_type": "stream",
     "text": [
      "Количество пользователей, которые оплатили тренировки после повтороного обуения после выбора уровня сложности: 265\n",
      "Процент пользователей, которые оплатили платные вопросы после повторного обучения после выбора уровня сложности: 19.12%\n"
     ]
    }
   ],
   "source": [
    "ttrl_after_lvl_choice_purchase_paths = tutorial_after_lvl_choice_paths[\n",
    "    tutorial_after_lvl_choice_paths.index.str.contains('purchase')\n",
    "]\n",
    "print('Количество пользователей, которые оплатили тренировки \\\n",
    "после повтороного обуения после выбора уровня сложности:\\\n",
    "', ttrl_after_lvl_choice_purchase_paths.sum()\n",
    ")\n",
    "print('Процент пользователей, которые оплатили платные вопросы \\\n",
    "после повторного обучения после выбора уровня сложности: \\\n",
    "{:.2%}'.format(ttrl_after_lvl_choice_purchase_paths.sum()/tutorial_after_lvl_choice_paths.sum())\n",
    ")                                                             "
   ]
  },
  {
   "cell_type": "markdown",
   "metadata": {
    "id": "_hWvcBG1eEvV"
   },
   "source": [
    "## Вывобы по Гипотезе 3\n",
    "\n"
   ]
  },
  {
   "cell_type": "markdown",
   "metadata": {},
   "source": [
    "Рассмотрение путей взаимодействия пользователей с приложением показывает, что есть пользователи, которые приступили к этапу обучения после этапа выбора уровня сложности. Однако, среди этих пользователей нет тех, кто выбрал уровень сложности сразу после регистрации. Это говорит о том, что пользователи понимают как взаимодействовать с приложением. Это также говорит о том, что те кто приступил к обучени после вбора уровня, сделали это повторно.\n",
    "\n",
    "Количество пользователей, которые приступили повторно к обучению, составляет 7% от общего числа пользователей. При том, что всего 8% пользователей оплатили платные вопросы, 7% это большое количество.\n",
    "\n",
    "Возможно этим пользователям что-то не понятно на этапе обучения."
   ]
  }
 ],
 "metadata": {
  "colab": {
   "name": "project_3_Mikhaylovskaya_K.ipynb",
   "provenance": []
  },
  "interpreter": {
   "hash": "36e38c9d7bfabfc35bea8617c2fe079b4913750654579426e8d70faf06b4c5f4"
  },
  "kernelspec": {
   "display_name": "Python 3",
   "language": "python",
   "name": "python3"
  },
  "language_info": {
   "codemirror_mode": {
    "name": "ipython",
    "version": 3
   },
   "file_extension": ".py",
   "mimetype": "text/x-python",
   "name": "python",
   "nbconvert_exporter": "python",
   "pygments_lexer": "ipython3",
   "version": "3.9.10"
  }
 },
 "nbformat": 4,
 "nbformat_minor": 1
}
